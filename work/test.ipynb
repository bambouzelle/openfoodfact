{
 "cells": [
  {
   "cell_type": "markdown",
   "id": "86c88f7a-d9fd-4c32-a10d-3982d83f5b91",
   "metadata": {},
   "source": [
    "# Extract data to a Spark DataFrame"
   ]
  },
  {
   "cell_type": "code",
   "execution_count": 7,
   "id": "984230eb-ee17-4ac4-b737-202c09251c3c",
   "metadata": {},
   "outputs": [],
   "source": [
    "from pyspark.sql import SparkSession\n",
    "\n",
    "# Create a Spark session\n",
    "spark = SparkSession.builder.appName(\"example\").getOrCreate()\n",
    "\n",
    "# Example: Reading a CSV file\n",
    "df = spark.read.option(\"sep\", \"\\t\").csv(\"data/en.openfoodfacts.org.products.csv.gz\", header=True, inferSchema=True).cache()\n",
    "# df.show()"
   ]
  },
  {
   "cell_type": "code",
   "execution_count": 8,
   "id": "bd398f2c-9e5f-4e4a-8647-08ca76040bcf",
   "metadata": {
    "collapsed": true,
    "jupyter": {
     "outputs_hidden": true
    }
   },
   "outputs": [
    {
     "data": {
      "text/plain": [
       "['code',\n",
       " 'url',\n",
       " 'creator',\n",
       " 'created_t',\n",
       " 'created_datetime',\n",
       " 'last_modified_t',\n",
       " 'last_modified_datetime',\n",
       " 'last_modified_by',\n",
       " 'last_updated_t',\n",
       " 'last_updated_datetime',\n",
       " 'product_name',\n",
       " 'abbreviated_product_name',\n",
       " 'generic_name',\n",
       " 'quantity',\n",
       " 'packaging',\n",
       " 'packaging_tags',\n",
       " 'packaging_en',\n",
       " 'packaging_text',\n",
       " 'brands',\n",
       " 'brands_tags',\n",
       " 'categories',\n",
       " 'categories_tags',\n",
       " 'categories_en',\n",
       " 'origins',\n",
       " 'origins_tags',\n",
       " 'origins_en',\n",
       " 'manufacturing_places',\n",
       " 'manufacturing_places_tags',\n",
       " 'labels',\n",
       " 'labels_tags',\n",
       " 'labels_en',\n",
       " 'emb_codes',\n",
       " 'emb_codes_tags',\n",
       " 'first_packaging_code_geo',\n",
       " 'cities',\n",
       " 'cities_tags',\n",
       " 'purchase_places',\n",
       " 'stores',\n",
       " 'countries',\n",
       " 'countries_tags',\n",
       " 'countries_en',\n",
       " 'ingredients_text',\n",
       " 'ingredients_tags',\n",
       " 'ingredients_analysis_tags',\n",
       " 'allergens',\n",
       " 'allergens_en',\n",
       " 'traces',\n",
       " 'traces_tags',\n",
       " 'traces_en',\n",
       " 'serving_size',\n",
       " 'serving_quantity',\n",
       " 'no_nutrition_data',\n",
       " 'additives_n',\n",
       " 'additives',\n",
       " 'additives_tags',\n",
       " 'additives_en',\n",
       " 'nutriscore_score',\n",
       " 'nutriscore_grade',\n",
       " 'nova_group',\n",
       " 'pnns_groups_1',\n",
       " 'pnns_groups_2',\n",
       " 'food_groups',\n",
       " 'food_groups_tags',\n",
       " 'food_groups_en',\n",
       " 'states',\n",
       " 'states_tags',\n",
       " 'states_en',\n",
       " 'brand_owner',\n",
       " 'ecoscore_score',\n",
       " 'ecoscore_grade',\n",
       " 'nutrient_levels_tags',\n",
       " 'product_quantity',\n",
       " 'owner',\n",
       " 'data_quality_errors_tags',\n",
       " 'unique_scans_n',\n",
       " 'popularity_tags',\n",
       " 'completeness',\n",
       " 'last_image_t',\n",
       " 'last_image_datetime',\n",
       " 'main_category',\n",
       " 'main_category_en',\n",
       " 'image_url',\n",
       " 'image_small_url',\n",
       " 'image_ingredients_url',\n",
       " 'image_ingredients_small_url',\n",
       " 'image_nutrition_url',\n",
       " 'image_nutrition_small_url',\n",
       " 'energy-kj_100g',\n",
       " 'energy-kcal_100g',\n",
       " 'energy_100g',\n",
       " 'energy-from-fat_100g',\n",
       " 'fat_100g',\n",
       " 'saturated-fat_100g',\n",
       " 'butyric-acid_100g',\n",
       " 'caproic-acid_100g',\n",
       " 'caprylic-acid_100g',\n",
       " 'capric-acid_100g',\n",
       " 'lauric-acid_100g',\n",
       " 'myristic-acid_100g',\n",
       " 'palmitic-acid_100g',\n",
       " 'stearic-acid_100g',\n",
       " 'arachidic-acid_100g',\n",
       " 'behenic-acid_100g',\n",
       " 'lignoceric-acid_100g',\n",
       " 'cerotic-acid_100g',\n",
       " 'montanic-acid_100g',\n",
       " 'melissic-acid_100g',\n",
       " 'unsaturated-fat_100g',\n",
       " 'monounsaturated-fat_100g',\n",
       " 'omega-9-fat_100g',\n",
       " 'polyunsaturated-fat_100g',\n",
       " 'omega-3-fat_100g',\n",
       " 'omega-6-fat_100g',\n",
       " 'alpha-linolenic-acid_100g',\n",
       " 'eicosapentaenoic-acid_100g',\n",
       " 'docosahexaenoic-acid_100g',\n",
       " 'linoleic-acid_100g',\n",
       " 'arachidonic-acid_100g',\n",
       " 'gamma-linolenic-acid_100g',\n",
       " 'dihomo-gamma-linolenic-acid_100g',\n",
       " 'oleic-acid_100g',\n",
       " 'elaidic-acid_100g',\n",
       " 'gondoic-acid_100g',\n",
       " 'mead-acid_100g',\n",
       " 'erucic-acid_100g',\n",
       " 'nervonic-acid_100g',\n",
       " 'trans-fat_100g',\n",
       " 'cholesterol_100g',\n",
       " 'carbohydrates_100g',\n",
       " 'sugars_100g',\n",
       " 'added-sugars_100g',\n",
       " 'sucrose_100g',\n",
       " 'glucose_100g',\n",
       " 'fructose_100g',\n",
       " 'lactose_100g',\n",
       " 'maltose_100g',\n",
       " 'maltodextrins_100g',\n",
       " 'starch_100g',\n",
       " 'polyols_100g',\n",
       " 'erythritol_100g',\n",
       " 'fiber_100g',\n",
       " 'soluble-fiber_100g',\n",
       " 'insoluble-fiber_100g',\n",
       " 'proteins_100g',\n",
       " 'casein_100g',\n",
       " 'serum-proteins_100g',\n",
       " 'nucleotides_100g',\n",
       " 'salt_100g',\n",
       " 'added-salt_100g',\n",
       " 'sodium_100g',\n",
       " 'alcohol_100g',\n",
       " 'vitamin-a_100g',\n",
       " 'beta-carotene_100g',\n",
       " 'vitamin-d_100g',\n",
       " 'vitamin-e_100g',\n",
       " 'vitamin-k_100g',\n",
       " 'vitamin-c_100g',\n",
       " 'vitamin-b1_100g',\n",
       " 'vitamin-b2_100g',\n",
       " 'vitamin-pp_100g',\n",
       " 'vitamin-b6_100g',\n",
       " 'vitamin-b9_100g',\n",
       " 'folates_100g',\n",
       " 'vitamin-b12_100g',\n",
       " 'biotin_100g',\n",
       " 'pantothenic-acid_100g',\n",
       " 'silica_100g',\n",
       " 'bicarbonate_100g',\n",
       " 'potassium_100g',\n",
       " 'chloride_100g',\n",
       " 'calcium_100g',\n",
       " 'phosphorus_100g',\n",
       " 'iron_100g',\n",
       " 'magnesium_100g',\n",
       " 'zinc_100g',\n",
       " 'copper_100g',\n",
       " 'manganese_100g',\n",
       " 'fluoride_100g',\n",
       " 'selenium_100g',\n",
       " 'chromium_100g',\n",
       " 'molybdenum_100g',\n",
       " 'iodine_100g',\n",
       " 'caffeine_100g',\n",
       " 'taurine_100g',\n",
       " 'ph_100g',\n",
       " 'fruits-vegetables-nuts_100g',\n",
       " 'fruits-vegetables-nuts-dried_100g',\n",
       " 'fruits-vegetables-nuts-estimate_100g',\n",
       " 'fruits-vegetables-nuts-estimate-from-ingredients_100g',\n",
       " 'collagen-meat-protein-ratio_100g',\n",
       " 'cocoa_100g',\n",
       " 'chlorophyl_100g',\n",
       " 'carbon-footprint_100g',\n",
       " 'carbon-footprint-from-meat-or-fish_100g',\n",
       " 'nutrition-score-fr_100g',\n",
       " 'nutrition-score-uk_100g',\n",
       " 'glycemic-index_100g',\n",
       " 'water-hardness_100g',\n",
       " 'choline_100g',\n",
       " 'phylloquinone_100g',\n",
       " 'beta-glucan_100g',\n",
       " 'inositol_100g',\n",
       " 'carnitine_100g',\n",
       " 'sulphate_100g',\n",
       " 'nitrate_100g',\n",
       " 'acidity_100g']"
      ]
     },
     "execution_count": 8,
     "metadata": {},
     "output_type": "execute_result"
    }
   ],
   "source": [
    "df.columns"
   ]
  },
  {
   "cell_type": "markdown",
   "id": "c9c02a34-5df3-41b9-bf0e-7dac5a401e0e",
   "metadata": {
    "jp-MarkdownHeadingCollapsed": true
   },
   "source": [
    "# Generate a table in a CSV with statistical descriptions of the DataFrame"
   ]
  },
  {
   "cell_type": "code",
   "execution_count": 10,
   "id": "c509e0fd-0c95-448d-b884-9b9ab7bfb6eb",
   "metadata": {},
   "outputs": [],
   "source": [
    "df.describe().toPandas().to_csv(\"describe_summary.csv\", index=False)"
   ]
  },
  {
   "cell_type": "markdown",
   "id": "c0a5dbff-0230-4591-a711-21dc73918d26",
   "metadata": {
    "editable": true,
    "jp-MarkdownHeadingCollapsed": true,
    "slideshow": {
     "slide_type": ""
    },
    "tags": []
   },
   "source": [
    "# Take a sample of the DF"
   ]
  },
  {
   "cell_type": "code",
   "execution_count": 19,
   "id": "55d5f76d-d583-4802-9fa0-edc521eeb18b",
   "metadata": {},
   "outputs": [],
   "source": [
    "FRACTION_SIZE = 0.00001"
   ]
  },
  {
   "cell_type": "code",
   "execution_count": 20,
   "id": "44d995a5-115b-42b1-a335-1ac1e7998960",
   "metadata": {},
   "outputs": [],
   "source": [
    "columnsToSample = ['quantity', 'serving_size', 'serving_quantity', 'product_quantity']"
   ]
  },
  {
   "cell_type": "code",
   "execution_count": 21,
   "id": "4f1ebc1d-f028-46f8-badf-46cc45681b5e",
   "metadata": {},
   "outputs": [],
   "source": [
    "samples_not_clean_df = df.select(columnsToSample).dropna(how='all').cache()"
   ]
  },
  {
   "cell_type": "code",
   "execution_count": 22,
   "id": "b4fe3f00-b57c-464f-a77c-b63e28e24461",
   "metadata": {},
   "outputs": [],
   "source": [
    "samples_df = samples_not_clean_df.sample(withReplacement=False, fraction=FRACTION_SIZE).cache()"
   ]
  },
  {
   "cell_type": "code",
   "execution_count": 23,
   "id": "c8ab1de3-9d35-4cf7-a291-fc21f5c03a5e",
   "metadata": {},
   "outputs": [
    {
     "data": {
      "text/plain": [
       "20"
      ]
     },
     "execution_count": 23,
     "metadata": {},
     "output_type": "execute_result"
    }
   ],
   "source": [
    "samples_df.count()"
   ]
  },
  {
   "cell_type": "code",
   "execution_count": 24,
   "id": "bbdbd707-1f7a-43a5-89bf-2d0e1c650129",
   "metadata": {},
   "outputs": [
    {
     "name": "stdout",
     "output_type": "stream",
     "text": [
      "+--------+------------------+----------------+----------------+\n",
      "|quantity|      serving_size|serving_quantity|product_quantity|\n",
      "+--------+------------------+----------------+----------------+\n",
      "|    NULL| 1 TORTILLA (47 g)|            47.0|            NULL|\n",
      "|  110 g.|              NULL|            NULL|           110.0|\n",
      "|    4 oz|    1/2 cup (40 g)|            40.0|     113.3980925|\n",
      "|    NULL|   22.5 g (22.5 g)|            22.5|            NULL|\n",
      "|    NULL|     4 ONZ (113 g)|           113.0|            NULL|\n",
      "|    NULL|  1 portion (28 g)|            28.0|            NULL|\n",
      "|   150 g|              NULL|            NULL|           150.0|\n",
      "|      25|              NULL|            NULL|            NULL|\n",
      "|    NULL|              100g|           100.0|            NULL|\n",
      "|   150 g|              NULL|            NULL|           150.0|\n",
      "|    1pcs|              NULL|            NULL|            NULL|\n",
      "|    NULL|1 portion (125 ml)|           125.0|            NULL|\n",
      "|    500g|              NULL|            NULL|           500.0|\n",
      "|    NULL|     1 pot (120 g)|           120.0|            NULL|\n",
      "|     1kg|               25g|            25.0|          1000.0|\n",
      "|    80 g|              NULL|            NULL|            80.0|\n",
      "|   14pcs|              NULL|            NULL|            NULL|\n",
      "|   0.33l|              NULL|            NULL|           330.0|\n",
      "|    NULL|             25.0g|            25.0|            NULL|\n",
      "|   300 g|               50g|            50.0|           300.0|\n",
      "+--------+------------------+----------------+----------------+\n",
      "\n"
     ]
    }
   ],
   "source": [
    "samples_df.show()"
   ]
  },
  {
   "cell_type": "markdown",
   "id": "b36aac7f-d961-4ad3-8a2e-b686e123db86",
   "metadata": {
    "jp-MarkdownHeadingCollapsed": true
   },
   "source": [
    "# Drop null rows"
   ]
  },
  {
   "cell_type": "code",
   "execution_count": 86,
   "id": "654d9c42-65bb-45b0-8424-a6a4e46412f9",
   "metadata": {},
   "outputs": [],
   "source": [
    "dropped_rows = df.dropna(subset=['categories_tags'])"
   ]
  },
  {
   "cell_type": "code",
   "execution_count": 88,
   "id": "667152c5-50e7-48cb-833e-3da69c44905e",
   "metadata": {
    "collapsed": true,
    "jupyter": {
     "outputs_hidden": true
    }
   },
   "outputs": [
    {
     "name": "stdout",
     "output_type": "stream",
     "text": [
      "+-----------+--------------------+--------------+----------+-------------------+---------------+----------------------+----------------+--------------+---------------------+--------------------+------------------------+------------+--------+--------------------+------------------+------------+--------------+--------------------+--------------------+--------------------+--------------------+--------------------+-------+------------+----------+--------------------+-------------------------+-------------+----------------+----------------+----------------+----------------+------------------------+------+--------------------+---------------+-------------+---------+--------------+------------+--------------------+--------------------+-------------------------+-----------------+------------+------+-----------+---------+------------+----------------+-----------------+-----------+---------+--------------------+--------------------+----------------+----------------+----------+--------------------+--------------------+--------------------+--------------------+--------------------+--------------------+--------------------+--------------------+-----------+--------------+--------------+--------------------+----------------+-----+------------------------+--------------+--------------------+------------+------------+-------------------+--------------------+--------------------+--------------------+--------------------+---------------------+---------------------------+--------------------+-------------------------+--------------+----------------+-----------+--------------------+--------+------------------+-----------------+-----------------+------------------+----------------+----------------+------------------+------------------+-----------------+-------------------+-----------------+--------------------+-----------------+------------------+------------------+--------------------+------------------------+----------------+------------------------+----------------+----------------+-------------------------+--------------------------+-------------------------+------------------+---------------------+-------------------------+--------------------------------+---------------+-----------------+-----------------+--------------+----------------+------------------+--------------+----------------+------------------+-----------+-----------------+------------+------------+-------------+------------+------------+------------------+-----------+------------+---------------+----------+------------------+--------------------+-------------+-----------+-------------------+----------------+---------+---------------+-----------+------------+--------------+------------------+--------------+--------------+--------------+--------------+---------------+---------------+---------------+---------------+---------------+------------+----------------+-----------+---------------------+-----------+----------------+--------------+-------------+------------+---------------+---------+--------------+---------+-----------+--------------+-------------+-------------+-------------+---------------+-----------+-------------+------------+-------+---------------------------+---------------------------------+------------------------------------+-----------------------------------------------------+--------------------------------+----------+---------------+---------------------+---------------------------------------+-----------------------+-----------------------+-------------------+-------------------+------------+------------------+----------------+-------------+--------------+-------------+------------+------------+\n",
      "|       code|                 url|       creator| created_t|   created_datetime|last_modified_t|last_modified_datetime|last_modified_by|last_updated_t|last_updated_datetime|        product_name|abbreviated_product_name|generic_name|quantity|           packaging|    packaging_tags|packaging_en|packaging_text|              brands|         brands_tags|          categories|     categories_tags|       categories_en|origins|origins_tags|origins_en|manufacturing_places|manufacturing_places_tags|       labels|     labels_tags|       labels_en|       emb_codes|  emb_codes_tags|first_packaging_code_geo|cities|         cities_tags|purchase_places|       stores|countries|countries_tags|countries_en|    ingredients_text|    ingredients_tags|ingredients_analysis_tags|        allergens|allergens_en|traces|traces_tags|traces_en|serving_size|serving_quantity|no_nutrition_data|additives_n|additives|      additives_tags|        additives_en|nutriscore_score|nutriscore_grade|nova_group|       pnns_groups_1|       pnns_groups_2|         food_groups|    food_groups_tags|      food_groups_en|              states|         states_tags|           states_en|brand_owner|ecoscore_score|ecoscore_grade|nutrient_levels_tags|product_quantity|owner|data_quality_errors_tags|unique_scans_n|     popularity_tags|completeness|last_image_t|last_image_datetime|       main_category|    main_category_en|           image_url|     image_small_url|image_ingredients_url|image_ingredients_small_url| image_nutrition_url|image_nutrition_small_url|energy-kj_100g|energy-kcal_100g|energy_100g|energy-from-fat_100g|fat_100g|saturated-fat_100g|butyric-acid_100g|caproic-acid_100g|caprylic-acid_100g|capric-acid_100g|lauric-acid_100g|myristic-acid_100g|palmitic-acid_100g|stearic-acid_100g|arachidic-acid_100g|behenic-acid_100g|lignoceric-acid_100g|cerotic-acid_100g|montanic-acid_100g|melissic-acid_100g|unsaturated-fat_100g|monounsaturated-fat_100g|omega-9-fat_100g|polyunsaturated-fat_100g|omega-3-fat_100g|omega-6-fat_100g|alpha-linolenic-acid_100g|eicosapentaenoic-acid_100g|docosahexaenoic-acid_100g|linoleic-acid_100g|arachidonic-acid_100g|gamma-linolenic-acid_100g|dihomo-gamma-linolenic-acid_100g|oleic-acid_100g|elaidic-acid_100g|gondoic-acid_100g|mead-acid_100g|erucic-acid_100g|nervonic-acid_100g|trans-fat_100g|cholesterol_100g|carbohydrates_100g|sugars_100g|added-sugars_100g|sucrose_100g|glucose_100g|fructose_100g|lactose_100g|maltose_100g|maltodextrins_100g|starch_100g|polyols_100g|erythritol_100g|fiber_100g|soluble-fiber_100g|insoluble-fiber_100g|proteins_100g|casein_100g|serum-proteins_100g|nucleotides_100g|salt_100g|added-salt_100g|sodium_100g|alcohol_100g|vitamin-a_100g|beta-carotene_100g|vitamin-d_100g|vitamin-e_100g|vitamin-k_100g|vitamin-c_100g|vitamin-b1_100g|vitamin-b2_100g|vitamin-pp_100g|vitamin-b6_100g|vitamin-b9_100g|folates_100g|vitamin-b12_100g|biotin_100g|pantothenic-acid_100g|silica_100g|bicarbonate_100g|potassium_100g|chloride_100g|calcium_100g|phosphorus_100g|iron_100g|magnesium_100g|zinc_100g|copper_100g|manganese_100g|fluoride_100g|selenium_100g|chromium_100g|molybdenum_100g|iodine_100g|caffeine_100g|taurine_100g|ph_100g|fruits-vegetables-nuts_100g|fruits-vegetables-nuts-dried_100g|fruits-vegetables-nuts-estimate_100g|fruits-vegetables-nuts-estimate-from-ingredients_100g|collagen-meat-protein-ratio_100g|cocoa_100g|chlorophyl_100g|carbon-footprint_100g|carbon-footprint-from-meat-or-fish_100g|nutrition-score-fr_100g|nutrition-score-uk_100g|glycemic-index_100g|water-hardness_100g|choline_100g|phylloquinone_100g|beta-glucan_100g|inositol_100g|carnitine_100g|sulphate_100g|nitrate_100g|acidity_100g|\n",
      "+-----------+--------------------+--------------+----------+-------------------+---------------+----------------------+----------------+--------------+---------------------+--------------------+------------------------+------------+--------+--------------------+------------------+------------+--------------+--------------------+--------------------+--------------------+--------------------+--------------------+-------+------------+----------+--------------------+-------------------------+-------------+----------------+----------------+----------------+----------------+------------------------+------+--------------------+---------------+-------------+---------+--------------+------------+--------------------+--------------------+-------------------------+-----------------+------------+------+-----------+---------+------------+----------------+-----------------+-----------+---------+--------------------+--------------------+----------------+----------------+----------+--------------------+--------------------+--------------------+--------------------+--------------------+--------------------+--------------------+--------------------+-----------+--------------+--------------+--------------------+----------------+-----+------------------------+--------------+--------------------+------------+------------+-------------------+--------------------+--------------------+--------------------+--------------------+---------------------+---------------------------+--------------------+-------------------------+--------------+----------------+-----------+--------------------+--------+------------------+-----------------+-----------------+------------------+----------------+----------------+------------------+------------------+-----------------+-------------------+-----------------+--------------------+-----------------+------------------+------------------+--------------------+------------------------+----------------+------------------------+----------------+----------------+-------------------------+--------------------------+-------------------------+------------------+---------------------+-------------------------+--------------------------------+---------------+-----------------+-----------------+--------------+----------------+------------------+--------------+----------------+------------------+-----------+-----------------+------------+------------+-------------+------------+------------+------------------+-----------+------------+---------------+----------+------------------+--------------------+-------------+-----------+-------------------+----------------+---------+---------------+-----------+------------+--------------+------------------+--------------+--------------+--------------+--------------+---------------+---------------+---------------+---------------+---------------+------------+----------------+-----------+---------------------+-----------+----------------+--------------+-------------+------------+---------------+---------+--------------+---------+-----------+--------------+-------------+-------------+-------------+---------------+-----------+-------------+------------+-------+---------------------------+---------------------------------+------------------------------------+-----------------------------------------------------+--------------------------------+----------+---------------+---------------------+---------------------------------------+-----------------------+-----------------------+-------------------+-------------------+------------+------------------+----------------+-------------+--------------+-------------+------------+------------+\n",
      "|      225.0|http://world-en.o...|nutrinet-sante|1623855208|2021-06-16 14:53:28|     1692101569|   2023-08-15 12:12:49|            digg|    1707747939|  2024-02-12 14:25:39|      jeunes pousses|                    NULL|        NULL|    NULL|                NULL|              NULL|        NULL|          NULL|             endives|             endives|Aliments et boiss...|en:plant-based-fo...|Plant-based foods...|   NULL|        NULL|      NULL|                NULL|                     NULL|         NULL|            NULL|            NULL|            NULL|            NULL|                    NULL|  NULL|                NULL|           NULL|         NULL|en:france|     en:france|      France|                NULL|                NULL|                     NULL|             NULL|        NULL|  NULL|       NULL|     NULL|        NULL|            NULL|             NULL|       NULL|     NULL|                NULL|                NULL|            NULL|         unknown|      NULL|Fruits and vegeta...|          Vegetables|       en:vegetables|en:fruits-and-veg...|Fruits and vegeta...|en:to-be-complete...|en:to-be-complete...|To be completed,N...|       NULL|          79.0|             b|                NULL|            NULL| NULL|                    NULL|          NULL|                NULL|         0.3|        NULL|               NULL|en:spinach-young-...|Spinach young leaves|                NULL|                NULL|                 NULL|                       NULL|                NULL|                     NULL|          NULL|            NULL|       NULL|                NULL|    NULL|              NULL|             NULL|             NULL|              NULL|            NULL|            NULL|              NULL|              NULL|             NULL|               NULL|             NULL|                NULL|             NULL|              NULL|              NULL|                NULL|                    NULL|            NULL|                    NULL|            NULL|            NULL|                     NULL|                      NULL|                     NULL|              NULL|                 NULL|                     NULL|                            NULL|           NULL|             NULL|             NULL|          NULL|            NULL|              NULL|          NULL|            NULL|              NULL|       NULL|             NULL|        NULL|        NULL|         NULL|        NULL|        NULL|              NULL|       NULL|        NULL|           NULL|      NULL|              NULL|                NULL|         NULL|       NULL|               NULL|            NULL|     NULL|           NULL|       NULL|        NULL|          NULL|              NULL|          NULL|          NULL|          NULL|          NULL|           NULL|           NULL|           NULL|           NULL|           NULL|        NULL|            NULL|       NULL|                 NULL|       NULL|            NULL|          NULL|         NULL|        NULL|           NULL|     NULL|          NULL|     NULL|       NULL|          NULL|         NULL|         NULL|         NULL|           NULL|       NULL|         NULL|        NULL|   NULL|                       NULL|                             NULL|                                NULL|                                                 NULL|                            NULL|      NULL|           NULL|                 NULL|                                   NULL|                   NULL|                   NULL|               NULL|               NULL|        NULL|              NULL|            NULL|         NULL|          NULL|         NULL|        NULL|        NULL|\n",
      "|2.6772226E7|http://world-en.o...|       kiliweb|1654250311|2022-06-03 09:58:31|     1654270474|   2022-06-03 15:34:34|      quentinbrd|    1707742177|  2024-02-12 12:49:37|                Skyr|                    NULL|        NULL|   480 g|                NULL|              NULL|        NULL|          NULL|              Danone|              danone|Produits laitiers...|en:dairies,en:fer...|Dairies,Fermented...|   NULL|        NULL|      NULL|                NULL|                     NULL|         NULL|            NULL|            NULL|            NULL|            NULL|                    NULL|  NULL|                NULL|           NULL|         NULL|   France|     en:france|      France|                NULL|                NULL|                     NULL|             NULL|        NULL|  NULL|       NULL|     NULL|        NULL|            NULL|             NULL|       NULL|     NULL|                NULL|                NULL|              -5|               a|      NULL|Milk and dairy pr...|      Dairy desserts|   en:dairy-desserts|en:milk-and-dairy...|Milk and dairy pr...|en:to-be-complete...|en:to-be-complete...|To be completed,N...|       NULL|          67.0|             b|en:fat-in-low-qua...|           480.0| NULL|                    NULL|          NULL|                NULL|       0.575|  1654250314|2022-06-03 09:58:34|    en:cream-cheeses|       Cream cheeses|https://images.op...|https://images.op...|                 NULL|                       NULL|https://images.op...|     https://images.op...|          NULL|            57.0|      238.0|                NULL|     0.2|               0.1|             NULL|             NULL|              NULL|            NULL|            NULL|              NULL|              NULL|             NULL|               NULL|             NULL|                NULL|             NULL|              NULL|              NULL|                NULL|                    NULL|            NULL|                    NULL|            NULL|            NULL|                     NULL|                      NULL|                     NULL|              NULL|                 NULL|                     NULL|                            NULL|           NULL|             NULL|             NULL|          NULL|            NULL|              NULL|          NULL|            NULL|               3.9|        3.9|             NULL|        NULL|        NULL|         NULL|        NULL|        NULL|              NULL|       NULL|        NULL|           NULL|      NULL|              NULL|                NULL|         10.0|       NULL|               NULL|            NULL|     0.09|           NULL|      0.036|        NULL|          NULL|              NULL|          NULL|          NULL|          NULL|          NULL|           NULL|           NULL|           NULL|           NULL|           NULL|        NULL|            NULL|       NULL|                 NULL|       NULL|            NULL|          NULL|         NULL|        NULL|           NULL|     NULL|          NULL|     NULL|       NULL|          NULL|         NULL|         NULL|         NULL|           NULL|       NULL|         NULL|        NULL|   NULL|                       NULL|                             NULL|                                NULL|                                                 NULL|                            NULL|      NULL|           NULL|                 NULL|                                   NULL|                     -5|                   NULL|               NULL|               NULL|        NULL|              NULL|            NULL|         NULL|          NULL|         NULL|        NULL|        NULL|\n",
      "|      100.0|http://world-en.o...|         del51|1444572561|2015-10-11 14:09:21|     1444659212|   2015-10-12 14:13:32|           del51|    1707490057|  2024-02-09 14:47:37| moutarde au moût...|                    NULL|        NULL|    100g|                NULL|              NULL|        NULL|          NULL|       courte paille|       courte-paille|Condiments, Sauce...|en:condiments,en:...|Condiments,Sauces...|   NULL|        NULL|      NULL|                NULL|                     NULL|Delois france|fr:delois-france|fr:delois-france|            NULL|            NULL|                    NULL|  NULL|                NULL|           NULL|courte paille|   France|     en:france|      France|eau graines de té...|fr:eau-graines-de...|     en:palm-oil-conte...|       en:mustard|        NULL|  NULL|       NULL|     NULL|        NULL|            NULL|             NULL|          0|     NULL|                NULL|                NULL|              18|               d|      NULL|      Fat and sauces|Dressings and sauces|en:dressings-and-...|en:fats-and-sauce...|Fats and sauces,D...|en:to-be-complete...|en:to-be-complete...|To be completed,N...|       NULL|          54.0|             c|en:fat-in-moderat...|           100.0| NULL|                    NULL|          NULL|                NULL|      0.7625|  1444572697|2015-10-11 14:11:37|        en:groceries|           Groceries|https://images.op...|https://images.op...|                 NULL|                       NULL|                NULL|                     NULL|         936.0|            NULL|      936.0|                NULL|     8.2|               2.2|             NULL|             NULL|              NULL|            NULL|            NULL|              NULL|              NULL|             NULL|               NULL|             NULL|                NULL|             NULL|              NULL|              NULL|                NULL|                    NULL|            NULL|                    NULL|            NULL|            NULL|                     NULL|                      NULL|                     NULL|              NULL|                 NULL|                     NULL|                            NULL|           NULL|             NULL|             NULL|          NULL|            NULL|              NULL|          NULL|            NULL|              29.0|       22.0|             NULL|        NULL|        NULL|         NULL|        NULL|        NULL|              NULL|       NULL|        NULL|           NULL|       0.0|              NULL|                NULL|          5.1|       NULL|               NULL|            NULL|      4.6|           NULL|       1.84|        NULL|          NULL|              NULL|          NULL|          NULL|          NULL|          NULL|           NULL|           NULL|           NULL|           NULL|           NULL|        NULL|            NULL|       NULL|                 NULL|       NULL|            NULL|          NULL|         NULL|        NULL|           NULL|     NULL|          NULL|     NULL|       NULL|          NULL|         NULL|         NULL|         NULL|           NULL|       NULL|         NULL|        NULL|   NULL|                       NULL|                             NULL|                                NULL|                                                  0.0|                            NULL|      NULL|           NULL|                 NULL|                                   NULL|                     18|                   NULL|               NULL|               NULL|        NULL|              NULL|            NULL|         NULL|          NULL|         NULL|        NULL|        NULL|\n",
      "|       75.0|http://world-en.o...|       kiliweb|1577358367|2019-12-26 11:06:07|     1716054676|   2024-05-18 17:51:16|       jusdekiwi|    1716054676|  2024-05-18 17:51:16|     Sachet calisson|                    NULL|        NULL|    NULL|                NULL|              NULL|        NULL|          NULL|                NULL|                NULL|           Calissons|en:snacks,en:swee...|Snacks,Sweet snac...|   NULL|        NULL|      NULL|                NULL|                     NULL|         NULL|            NULL|            NULL|            NULL|            NULL|                    NULL|  NULL|                NULL|           NULL|         NULL|   France|     en:france|      France|                NULL|                NULL|                     NULL|             NULL|        NULL|  NULL|       NULL|     NULL|        NULL|            NULL|             NULL|       NULL|     NULL|                NULL|                NULL|            NULL|         unknown|      NULL|       Sugary snacks|              Sweets|           en:sweets|en:sugary-snacks,...|Sugary snacks,Sweets|en:to-be-complete...|en:to-be-complete...|To be completed,N...|       NULL|          75.0|             b|                NULL|            NULL| NULL|                    NULL|          NULL|                NULL|      0.2625|  1577358368|2019-12-26 11:06:08|        en:calissons|           Calissons|https://images.op...|https://images.op...|                 NULL|                       NULL|                NULL|                     NULL|          NULL|            NULL|       NULL|                NULL|    NULL|              NULL|             NULL|             NULL|              NULL|            NULL|            NULL|              NULL|              NULL|             NULL|               NULL|             NULL|                NULL|             NULL|              NULL|              NULL|                NULL|                    NULL|            NULL|                    NULL|            NULL|            NULL|                     NULL|                      NULL|                     NULL|              NULL|                 NULL|                     NULL|                            NULL|           NULL|             NULL|             NULL|          NULL|            NULL|              NULL|          NULL|            NULL|              NULL|       NULL|             NULL|        NULL|        NULL|         NULL|        NULL|        NULL|              NULL|       NULL|        NULL|           NULL|      NULL|              NULL|                NULL|         NULL|       NULL|               NULL|            NULL|     NULL|           NULL|       NULL|        NULL|          NULL|              NULL|          NULL|          NULL|          NULL|          NULL|           NULL|           NULL|           NULL|           NULL|           NULL|        NULL|            NULL|       NULL|                 NULL|       NULL|            NULL|          NULL|         NULL|        NULL|           NULL|     NULL|          NULL|     NULL|       NULL|          NULL|         NULL|         NULL|         NULL|           NULL|       NULL|         NULL|        NULL|   NULL|                       NULL|                             NULL|                                NULL|                                                 NULL|                            NULL|      NULL|           NULL|                 NULL|                                   NULL|                   NULL|                   NULL|               NULL|               NULL|        NULL|              NULL|            NULL|         NULL|          NULL|         NULL|        NULL|        NULL|\n",
      "|       80.0|http://world-en.o...|       kiliweb|1612447663|2021-02-04 14:07:43|     1708941748|   2024-02-26 10:02:28|         kiliweb|    1708941748|  2024-02-26 10:02:28|    Pur jus de pomme|                    NULL|        NULL|    NULL|                NULL|              NULL|        NULL|          NULL|                NULL|                NULL|Aliments et boiss...|en:plant-based-fo...|Plant-based foods...|   NULL|        NULL|      NULL|                NULL|                     NULL|         NULL|            NULL|            NULL|            NULL|            NULL|                    NULL|  NULL|                NULL|           NULL|         NULL|    en:fr|     en:france|      France|                NULL|                NULL|                     NULL|             NULL|        NULL|  NULL|       NULL|     NULL|        NULL|            NULL|             NULL|       NULL|     NULL|                NULL|                NULL|               9|               d|      NULL|           Beverages|        Fruit juices|     en:fruit-juices|en:beverages,en:f...|Beverages,Fruit j...|en:to-be-complete...|en:to-be-complete...|To be completed,N...|       NULL|          49.0|             c|en:fat-in-low-qua...|            NULL| NULL|                    NULL|             1|bottom-25-percent...|       0.375|  1708941747|2024-02-26 10:02:27|en:squeezed-apple...|Squeezed apple ju...|https://images.op...|https://images.op...|                 NULL|                       NULL|https://images.op...|     https://images.op...|          NULL|            63.0|      264.0|                NULL|     0.0|               0.0|             NULL|             NULL|              NULL|            NULL|            NULL|              NULL|              NULL|             NULL|               NULL|             NULL|                NULL|             NULL|              NULL|              NULL|                NULL|                    NULL|            NULL|                    NULL|            NULL|            NULL|                     NULL|                      NULL|                     NULL|              NULL|                 NULL|                     NULL|                            NULL|           NULL|             NULL|             NULL|          NULL|            NULL|              NULL|          NULL|            NULL|              15.5|       15.5|             NULL|        NULL|        NULL|         NULL|        NULL|        NULL|              NULL|       NULL|        NULL|           NULL|       0.0|              NULL|                NULL|          0.2|       NULL|               NULL|            NULL|      0.0|           NULL|        0.0|        NULL|          NULL|              NULL|          NULL|          NULL|          NULL|          NULL|           NULL|           NULL|           NULL|           NULL|           NULL|        NULL|            NULL|       NULL|                 NULL|       NULL|            NULL|          NULL|         NULL|        NULL|           NULL|     NULL|          NULL|     NULL|       NULL|          NULL|         NULL|         NULL|         NULL|           NULL|       NULL|         NULL|        NULL|   NULL|                       NULL|                             NULL|                                NULL|                                                 NULL|                            NULL|      NULL|           NULL|                 NULL|                                   NULL|                      9|                   NULL|               NULL|               NULL|        NULL|              NULL|            NULL|         NULL|          NULL|         NULL|        NULL|        NULL|\n",
      "|       88.0|http://world-en.o...|       kiliweb|1577358222|2019-12-26 11:03:42|     1632673428|   2021-09-26 16:23:48|      agamitsudo|    1707639286|  2024-02-11 08:14:46|       Pate d'amande|                    NULL|        NULL|    NULL|                NULL|              NULL|        NULL|          NULL|                NULL|                NULL|Snacks, Snacks su...|en:snacks,en:swee...|Snacks,Sweet snac...|   NULL|        NULL|      NULL|                NULL|                     NULL|         NULL|            NULL|            NULL|            NULL|            NULL|                    NULL|  NULL|                NULL|           NULL|         NULL|   France|     en:france|      France|                NULL|                NULL|                     NULL|             NULL|        NULL|  NULL|       NULL|     NULL|        NULL|            NULL|             NULL|       NULL|     NULL|                NULL|                NULL|            NULL|         unknown|      NULL|       Sugary snacks|              Sweets|           en:sweets|en:sugary-snacks,...|Sugary snacks,Sweets|en:to-be-complete...|en:to-be-complete...|To be completed,N...|       NULL|          29.0|             d|en:salt-in-low-qu...|            NULL| NULL|                    NULL|          NULL|                NULL|       0.375|  1577358223|2019-12-26 11:03:43|     en:almond-paste|        Almond paste|https://images.op...|https://images.op...|                 NULL|                       NULL|https://images.op...|     https://images.op...|          NULL|            NULL|       NULL|                NULL|    NULL|              NULL|             NULL|             NULL|              NULL|            NULL|            NULL|              NULL|              NULL|             NULL|               NULL|             NULL|                NULL|             NULL|              NULL|              NULL|                NULL|                    NULL|            NULL|                    NULL|            NULL|            NULL|                     NULL|                      NULL|                     NULL|              NULL|                 NULL|                     NULL|                            NULL|           NULL|             NULL|             NULL|          NULL|            NULL|              NULL|          NULL|            NULL|              NULL|       NULL|             NULL|        NULL|        NULL|         NULL|        NULL|        NULL|              NULL|       NULL|        NULL|           NULL|      NULL|              NULL|                NULL|         NULL|       NULL|               NULL|            NULL|      0.0|           NULL|        0.0|        NULL|          NULL|              NULL|          NULL|          NULL|          NULL|          NULL|           NULL|           NULL|           NULL|           NULL|           NULL|        NULL|            NULL|       NULL|                 NULL|       NULL|            NULL|          NULL|         NULL|        NULL|           NULL|     NULL|          NULL|     NULL|       NULL|          NULL|         NULL|         NULL|         NULL|           NULL|       NULL|         NULL|        NULL|   NULL|                       NULL|                             NULL|                                NULL|                                                 NULL|                            NULL|      NULL|           NULL|                 NULL|                                   NULL|                   NULL|                   NULL|               NULL|               NULL|        NULL|              NULL|            NULL|         NULL|          NULL|         NULL|        NULL|        NULL|\n",
      "|      949.0|http://world-en.o...|       kiliweb|1523440813|2018-04-11 10:00:13|     1565268412|   2019-08-08 12:46:52|           desan|    1707491011|  2024-02-09 15:03:31|Salade de carotte...|                    NULL|        NULL|    NULL|                NULL|              NULL|        NULL|          NULL|                NULL|                NULL|Aliments et boiss...|en:plant-based-fo...|Plant-based foods...|   NULL|        NULL|      NULL|                NULL|                     NULL|         NULL|            NULL|            NULL|            NULL|            NULL|                    NULL|  NULL|                NULL|           NULL|         NULL|   France|     en:france|      France|                NULL|                NULL|                     NULL|             NULL|        NULL|  NULL|       NULL|     NULL|        NULL|            NULL|             NULL|       NULL|     NULL|                NULL|                NULL|              -4|               a|      NULL|     Composite foods|      One-dish meals|   en:one-dish-meals|en:composite-food...|Composite foods,O...|en:to-be-complete...|en:to-be-complete...|To be completed,N...|       NULL|          75.0|             b|en:fat-in-low-qua...|            NULL| NULL|                    NULL|          NULL|                NULL|       0.375|  1523440823|2018-04-11 10:00:23|en:seasoned-grate...|Seasoned grated c...|https://images.op...|https://images.op...| https://images.op...|       https://images.op...|                NULL|                     NULL|          NULL|            32.0|      134.0|                NULL|     0.3|               0.1|             NULL|             NULL|              NULL|            NULL|            NULL|              NULL|              NULL|             NULL|               NULL|             NULL|                NULL|             NULL|              NULL|              NULL|                NULL|                    NULL|            NULL|                    NULL|            NULL|            NULL|                     NULL|                      NULL|                     NULL|              NULL|                 NULL|                     NULL|                            NULL|           NULL|             NULL|             NULL|          NULL|            NULL|              NULL|          NULL|            NULL|               5.3|        3.9|             NULL|        NULL|        NULL|         NULL|        NULL|        NULL|              NULL|       NULL|        NULL|           NULL|      NULL|              NULL|                NULL|          0.9|       NULL|               NULL|            NULL|     0.42|           NULL|      0.168|        NULL|          NULL|              NULL|          NULL|          NULL|          NULL|          NULL|           NULL|           NULL|           NULL|           NULL|           NULL|        NULL|            NULL|       NULL|                 NULL|       NULL|            NULL|          NULL|         NULL|        NULL|           NULL|     NULL|          NULL|     NULL|       NULL|          NULL|         NULL|         NULL|         NULL|           NULL|       NULL|         NULL|        NULL|   NULL|                       NULL|                             NULL|                                NULL|                                                 NULL|                            NULL|      NULL|           NULL|                 NULL|                                   NULL|                     -4|                   NULL|               NULL|               NULL|        NULL|              NULL|            NULL|         NULL|          NULL|         NULL|        NULL|        NULL|\n",
      "|     1281.0|http://world-en.o...|       kiliweb|1517830801|2018-02-05 11:40:01|     1644567888|   2022-02-11 08:24:48|         packbot|    1707490057|  2024-02-09 14:47:37|  Tarte noix de coco|                    NULL|        NULL|    NULL|Plastique, Barquette|en:plastic,en:tray|Plastic,Tray|          NULL|  Crous Resto',Crous|   crous-resto,crous|Tartes sucrées, T...|en:sweet-pies,en:...|Sweet pies,Pies,C...|   NULL|        NULL|      NULL|                NULL|                     NULL|         NULL|            NULL|            NULL|            NULL|            NULL|                    NULL|  NULL|                NULL|           NULL|         NULL|   France|     en:france|      France|                NULL|                NULL|                     NULL|             NULL|        NULL|  NULL|       NULL|     NULL|        NULL|            NULL|             NULL|       NULL|     NULL|                NULL|                NULL|              14|               d|      NULL|     Composite foods|Pizza pies and qu...|en:pizza-pies-and...|en:composite-food...|Composite foods,P...|en:to-be-complete...|en:to-be-complete...|To be completed,N...|       NULL|          NULL|       unknown|en:fat-in-high-qu...|            NULL| NULL|                    NULL|             2|top-country-fr-sc...|       0.575|  1527070789|2018-05-23 10:19:49|     en:coconut-pies|        Coconut pies|https://images.op...|https://images.op...| https://images.op...|       https://images.op...|                NULL|                     NULL|          NULL|           381.0|     1594.0|                NULL|    22.0|              15.5|             NULL|             NULL|              NULL|            NULL|            NULL|              NULL|              NULL|             NULL|               NULL|             NULL|                NULL|             NULL|              NULL|              NULL|                NULL|                    NULL|            NULL|                    NULL|            NULL|            NULL|                     NULL|                      NULL|                     NULL|              NULL|                 NULL|                     NULL|                            NULL|           NULL|             NULL|             NULL|          NULL|            NULL|              NULL|          NULL|            NULL|              27.3|       21.9|             NULL|        NULL|        NULL|         NULL|        NULL|        NULL|              NULL|       NULL|        NULL|           NULL|       4.4|              NULL|                NULL|          4.6|       NULL|               NULL|            NULL|      0.1|           NULL|       0.04|        NULL|          NULL|              NULL|          NULL|          NULL|          NULL|          NULL|           NULL|           NULL|           NULL|           NULL|           NULL|        NULL|            NULL|       NULL|                 NULL|       NULL|            NULL|          NULL|         NULL|        NULL|           NULL|     NULL|          NULL|     NULL|       NULL|          NULL|         NULL|         NULL|         NULL|           NULL|       NULL|         NULL|        NULL|   NULL|                       NULL|                             NULL|                                NULL|                                                 NULL|                            NULL|      NULL|           NULL|                 NULL|                                   NULL|                     14|                   NULL|               NULL|               NULL|        NULL|              NULL|            NULL|         NULL|          NULL|         NULL|        NULL|        NULL|\n",
      "|     1885.0|http://world-en.o...|       kiliweb|1511180337|2017-11-20 12:18:57|     1518126491|   2018-02-08 21:48:11|          tacite|    1707491012|  2024-02-09 15:03:32|    Compote de poire|                    NULL|        NULL|    NULL|                NULL|              NULL|        NULL|          NULL|               Crous|               crous|Aliments et boiss...|en:plant-based-fo...|Plant-based foods...|   NULL|        NULL|      NULL|                NULL|                     NULL|         NULL|            NULL|            NULL|            NULL|            NULL|                    NULL|  NULL|                NULL|           NULL|         NULL|   France|     en:france|      France|                NULL|                NULL|                     NULL|             NULL|        NULL|  NULL|       NULL|     NULL|        NULL|            NULL|             NULL|       NULL|     NULL|                NULL|                NULL|              -2|               a|      NULL|Fruits and vegeta...|              Fruits|           en:fruits|en:fruits-and-veg...|Fruits and vegeta...|en:to-be-complete...|en:to-be-complete...|To be completed,N...|       NULL|          76.0|             b|en:fat-in-low-qua...|            NULL| NULL|                    NULL|             2|top-country-fr-sc...|       0.475|  1511180341|2017-11-20 12:19:01|    en:pear-compotes|       Pear compotes|https://images.op...|https://images.op...|                 NULL|                       NULL|https://images.op...|     https://images.op...|          NULL|           157.0|      657.0|                NULL|     0.0|               0.0|             NULL|             NULL|              NULL|            NULL|            NULL|              NULL|              NULL|             NULL|               NULL|             NULL|                NULL|             NULL|              NULL|              NULL|                NULL|                    NULL|            NULL|                    NULL|            NULL|            NULL|                     NULL|                      NULL|                     NULL|              NULL|                 NULL|                     NULL|                            NULL|           NULL|             NULL|             NULL|          NULL|            NULL|              NULL|          NULL|            NULL|              36.0|       27.0|             NULL|        NULL|        NULL|         NULL|        NULL|        NULL|              NULL|       NULL|        NULL|           NULL|       3.6|              NULL|                NULL|          0.6|       NULL|               NULL|            NULL|      0.0|           NULL|        0.0|        NULL|          NULL|              NULL|          NULL|          NULL|          NULL|          NULL|           NULL|           NULL|           NULL|           NULL|           NULL|        NULL|            NULL|       NULL|                 NULL|       NULL|            NULL|          NULL|         NULL|        NULL|           NULL|     NULL|          NULL|     NULL|       NULL|          NULL|         NULL|         NULL|         NULL|           NULL|       NULL|         NULL|        NULL|   NULL|                       NULL|                             NULL|                                NULL|                                                 NULL|                            NULL|      NULL|           NULL|                 NULL|                                   NULL|                     -2|                   NULL|               NULL|               NULL|        NULL|              NULL|            NULL|         NULL|          NULL|         NULL|        NULL|        NULL|\n",
      "|     2103.0|http://world-en.o...|       kiliweb|1539629524|2018-10-15 18:52:04|     1549964455|   2019-02-12 09:40:55|      roboto-app|    1707603626|  2024-02-10 22:20:26|Aiguillettes de p...|                    NULL|        NULL|    NULL|                NULL|              NULL|        NULL|          NULL|                NULL|                NULL|Viandes et dérivé...|en:meats-and-thei...|Meats and their p...|   NULL|        NULL|      NULL|                NULL|                     NULL|         NULL|            NULL|            NULL|FR 72.264.002 EC|fr-72-264-002-ec|     47.833333,-0.333333|  NULL|sable-sur-sarthe-...|           NULL|         NULL|   France|     en:france|      France|                NULL|                NULL|                     NULL|             NULL|        NULL|  NULL|       NULL|     NULL|        NULL|            NULL|             NULL|       NULL|     NULL|                NULL|                NULL|            NULL|         unknown|      NULL|      Fish Meat Eggs|                Meat|          en:poultry|en:fish-meat-eggs...|Fish‚ Meat‚ Eggs,...|en:to-be-complete...|en:to-be-complete...|To be completed,N...|       NULL|          21.0|             d|                NULL|            NULL| NULL|                    NULL|             1|top-75-percent-sc...|       0.375|  1539629527|2018-10-15 18:52:07|fr:aiguillettes-d...|fr:Aiguillettes d...|https://images.op...|https://images.op...| https://images.op...|       https://images.op...|                NULL|                     NULL|          NULL|            NULL|       NULL|                NULL|    NULL|              NULL|             NULL|             NULL|              NULL|            NULL|            NULL|              NULL|              NULL|             NULL|               NULL|             NULL|                NULL|             NULL|              NULL|              NULL|                NULL|                    NULL|            NULL|                    NULL|            NULL|            NULL|                     NULL|                      NULL|                     NULL|              NULL|                 NULL|                     NULL|                            NULL|           NULL|             NULL|             NULL|          NULL|            NULL|              NULL|          NULL|            NULL|              NULL|       NULL|             NULL|        NULL|        NULL|         NULL|        NULL|        NULL|              NULL|       NULL|        NULL|           NULL|      NULL|              NULL|                NULL|         NULL|       NULL|               NULL|            NULL|     NULL|           NULL|       NULL|        NULL|          NULL|              NULL|          NULL|          NULL|          NULL|          NULL|           NULL|           NULL|           NULL|           NULL|           NULL|        NULL|            NULL|       NULL|                 NULL|       NULL|            NULL|          NULL|         NULL|        NULL|           NULL|     NULL|          NULL|     NULL|       NULL|          NULL|         NULL|         NULL|         NULL|           NULL|       NULL|         NULL|        NULL|   NULL|                       NULL|                             NULL|                                NULL|                                                 NULL|                            NULL|      NULL|           NULL|                 NULL|                                   NULL|                   NULL|                   NULL|               NULL|               NULL|        NULL|              NULL|            NULL|         NULL|          NULL|         NULL|        NULL|        NULL|\n",
      "|     2257.0|http://world-en.o...|       kiliweb|1520506122|2018-03-08 10:48:42|     1561463749|   2019-06-25 11:55:49|           desan|    1707490058|  2024-02-09 14:47:38|Salade de macedoi...|                    NULL|        NULL|    NULL|                NULL|              NULL|        NULL|          NULL|                NULL|                NULL|Aliments et boiss...|en:plant-based-fo...|Plant-based foods...|   NULL|        NULL|      NULL|                NULL|                     NULL|         NULL|            NULL|            NULL|            NULL|            NULL|                    NULL|  NULL|                NULL|           NULL|         NULL|   France|     en:france|      France|                NULL|                NULL|                     NULL|             NULL|        NULL|  NULL|       NULL|     NULL|     serving|            NULL|             NULL|       NULL|     NULL|                NULL|                NULL|               1|               b|      NULL|     Composite foods|      One-dish meals|   en:one-dish-meals|en:composite-food...|Composite foods,O...|en:to-be-complete...|en:to-be-complete...|To be completed,N...|       NULL|          77.0|             b|en:fat-in-moderat...|            NULL| NULL|    en:serving-size-i...|             1|top-75-percent-sc...|       0.375|  1520506124|2018-03-08 10:48:44|en:vegetables-mac...|Vegetables macedo...|https://images.op...|https://images.op...| https://images.op...|       https://images.op...|                NULL|                     NULL|          NULL|           143.0|      598.0|                NULL|    12.7|               1.0|             NULL|             NULL|              NULL|            NULL|            NULL|              NULL|              NULL|             NULL|               NULL|             NULL|                NULL|             NULL|              NULL|              NULL|                NULL|                    NULL|            NULL|                    NULL|            NULL|            NULL|                     NULL|                      NULL|                     NULL|              NULL|                 NULL|                     NULL|                            NULL|           NULL|             NULL|             NULL|          NULL|            NULL|              NULL|          NULL|            NULL|               3.9|        1.0|             NULL|        NULL|        NULL|         NULL|        NULL|        NULL|              NULL|       NULL|        NULL|           NULL|      NULL|              NULL|                NULL|          1.9|       NULL|               NULL|            NULL|     0.27|           NULL|      0.108|        NULL|          NULL|              NULL|          NULL|          NULL|          NULL|          NULL|           NULL|           NULL|           NULL|           NULL|           NULL|        NULL|            NULL|       NULL|                 NULL|       NULL|            NULL|          NULL|         NULL|        NULL|           NULL|     NULL|          NULL|     NULL|       NULL|          NULL|         NULL|         NULL|         NULL|           NULL|       NULL|         NULL|        NULL|   NULL|                       NULL|                             NULL|                                NULL|                                                 NULL|                            NULL|      NULL|           NULL|                 NULL|                                   NULL|                      1|                   NULL|               NULL|               NULL|        NULL|              NULL|            NULL|         NULL|          NULL|         NULL|        NULL|        NULL|\n",
      "|      262.0|http://world-en.o...|       kiliweb|1636399014|2021-11-08 19:16:54|     1636400171|   2021-11-08 19:36:11|         segundo|    1707745522|  2024-02-12 13:45:22|   Confiture de lait|                    NULL|        NULL|    NULL|                NULL|              NULL|        NULL|          NULL|                NULL|                NULL|Petit-déjeuners, ...|en:breakfasts,en:...|Breakfasts,Spread...|   NULL|        NULL|      NULL|                NULL|                     NULL|         NULL|            NULL|            NULL|            NULL|            NULL|                    NULL|  NULL|                NULL|           NULL|         NULL|    en:fr|     en:france|      France|                NULL|                NULL|                     NULL|             NULL|        NULL|  NULL|       NULL|     NULL|        NULL|            NULL|             NULL|       NULL|     NULL|                NULL|                NULL|            NULL|         unknown|      NULL|       Sugary snacks|              Sweets|           en:sweets|en:sugary-snacks,...|Sugary snacks,Sweets|en:to-be-complete...|en:to-be-complete...|To be completed,N...|       NULL|          68.0|             b|                NULL|            NULL| NULL|                    NULL|          NULL|                NULL|      0.2625|  1636399014|2021-11-08 19:16:54|        en:milk-jams|           Milk jams|https://images.op...|https://images.op...|                 NULL|                       NULL|                NULL|                     NULL|          NULL|            NULL|       NULL|                NULL|    NULL|              NULL|             NULL|             NULL|              NULL|            NULL|            NULL|              NULL|              NULL|             NULL|               NULL|             NULL|                NULL|             NULL|              NULL|              NULL|                NULL|                    NULL|            NULL|                    NULL|            NULL|            NULL|                     NULL|                      NULL|                     NULL|              NULL|                 NULL|                     NULL|                            NULL|           NULL|             NULL|             NULL|          NULL|            NULL|              NULL|          NULL|            NULL|              NULL|       NULL|             NULL|        NULL|        NULL|         NULL|        NULL|        NULL|              NULL|       NULL|        NULL|           NULL|      NULL|              NULL|                NULL|         NULL|       NULL|               NULL|            NULL|     NULL|           NULL|       NULL|        NULL|          NULL|              NULL|          NULL|          NULL|          NULL|          NULL|           NULL|           NULL|           NULL|           NULL|           NULL|        NULL|            NULL|       NULL|                 NULL|       NULL|            NULL|          NULL|         NULL|        NULL|           NULL|     NULL|          NULL|     NULL|       NULL|          NULL|         NULL|         NULL|         NULL|           NULL|       NULL|         NULL|        NULL|   NULL|                       NULL|                             NULL|                                NULL|                                                 NULL|                            NULL|      NULL|           NULL|                 NULL|                                   NULL|                   NULL|                   NULL|               NULL|               NULL|        NULL|              NULL|            NULL|         NULL|          NULL|         NULL|        NULL|        NULL|\n",
      "|      445.0|http://world-en.o...|       kiliweb|1580656442|2020-02-02 15:14:02|     1673353879|   2023-01-10 12:31:19|         segundo|    1707642734|  2024-02-11 09:12:14|Thé blanc de la R...|                    NULL|        NULL|     4 g|                NULL|              NULL|        NULL|          NULL|                NULL|                NULL|Aliments et boiss...|en:plant-based-fo...|Plant-based foods...|   NULL|        NULL|      NULL|                NULL|                     NULL|         NULL|            NULL|            NULL|            NULL|            NULL|                    NULL|  NULL|                NULL|           NULL|         NULL|    en:fr|     en:france|      France|                NULL|                NULL|                     NULL|             NULL|        NULL|  NULL|       NULL|     NULL|        NULL|            NULL|             NULL|       NULL|     NULL|                NULL|                NULL|            NULL|         unknown|      NULL|             unknown|             unknown|                NULL|                NULL|                NULL|en:to-be-complete...|en:to-be-complete...|To be completed,N...|       NULL|          79.0|             b|                NULL|             4.0| NULL|                    NULL|          NULL|                NULL|       0.375|  1580656444|2020-02-02 15:14:04|       en:white-teas|          White teas|https://images.op...|https://images.op...|                 NULL|                       NULL|https://images.op...|     https://images.op...|          NULL|            NULL|       NULL|                NULL|    NULL|              NULL|             NULL|             NULL|              NULL|            NULL|            NULL|              NULL|              NULL|             NULL|               NULL|             NULL|                NULL|             NULL|              NULL|              NULL|                NULL|                    NULL|            NULL|                    NULL|            NULL|            NULL|                     NULL|                      NULL|                     NULL|              NULL|                 NULL|                     NULL|                            NULL|           NULL|             NULL|             NULL|          NULL|            NULL|              NULL|          NULL|            NULL|              NULL|       NULL|             NULL|        NULL|        NULL|         NULL|        NULL|        NULL|              NULL|       NULL|        NULL|           NULL|      NULL|              NULL|                NULL|         NULL|       NULL|               NULL|            NULL|     NULL|           NULL|       NULL|        NULL|          NULL|              NULL|          NULL|          NULL|          NULL|          NULL|           NULL|           NULL|           NULL|           NULL|           NULL|        NULL|            NULL|       NULL|                 NULL|       NULL|            NULL|          NULL|         NULL|        NULL|           NULL|     NULL|          NULL|     NULL|       NULL|          NULL|         NULL|         NULL|         NULL|           NULL|       NULL|         NULL|        NULL|   NULL|                       NULL|                             NULL|                                NULL|                                                 NULL|                            NULL|      NULL|           NULL|                 NULL|                                   NULL|                   NULL|                   NULL|               NULL|               NULL|        NULL|              NULL|            NULL|         NULL|          NULL|         NULL|        NULL|        NULL|\n",
      "|        5.0|http://world-en.o...|     touchette|1605337720|2020-11-14 07:08:40|     1678380811|   2023-03-09 16:53:31|          aleene|    1707753179|  2024-02-12 15:52:59|    Nectar d'abricot|                    NULL|        NULL|     1 l|               Glass|          en:glass|       Glass|          NULL|Ferme de l'Aiguem...|ferme-de-l-aiguem...|Aliments et boiss...|en:plant-based-fo...|Plant-based foods...|   NULL|        NULL|      NULL|       bénivay-ollon|            benivay-ollon|         NULL|            NULL|            NULL|          13089c|          13089c|                    NULL|  NULL|                NULL|         France|         NULL|   France|     en:france|      France|Jus et purée d'ab...|en:apricot-juice-...|     en:palm-oil-free,...|             NULL|        NULL|  NULL|       NULL|     NULL|        NULL|            NULL|               on|          0|     NULL|                NULL|                NULL|            NULL|         unknown|         3|           Beverages| Sweetened beverages|en:sweetened-beve...|en:beverages,en:s...|Beverages,Sweeten...|en:to-be-complete...|en:to-be-complete...|To be completed,N...|       NULL|          68.0|             b|                NULL|          1000.0| NULL|                    NULL|          NULL|                NULL|      0.8875|  1605337970|2020-11-14 07:12:50|  en:apricot-nectars|     Apricot nectars|https://images.op...|https://images.op...| https://images.op...|       https://images.op...|                NULL|                     NULL|          NULL|            NULL|       NULL|                NULL|    NULL|              NULL|             NULL|             NULL|              NULL|            NULL|            NULL|              NULL|              NULL|             NULL|               NULL|             NULL|                NULL|             NULL|              NULL|              NULL|                NULL|                    NULL|            NULL|                    NULL|            NULL|            NULL|                     NULL|                      NULL|                     NULL|              NULL|                 NULL|                     NULL|                            NULL|           NULL|             NULL|             NULL|          NULL|            NULL|              NULL|          NULL|            NULL|              NULL|       NULL|             NULL|        NULL|        NULL|         NULL|        NULL|        NULL|              NULL|       NULL|        NULL|           NULL|      NULL|              NULL|                NULL|         NULL|       NULL|               NULL|            NULL|     NULL|           NULL|       NULL|        NULL|          NULL|              NULL|          NULL|          NULL|          NULL|          NULL|           NULL|           NULL|           NULL|           NULL|           NULL|        NULL|            NULL|       NULL|                 NULL|       NULL|            NULL|          NULL|         NULL|        NULL|           NULL|     NULL|          NULL|     NULL|       NULL|          NULL|         NULL|         NULL|         NULL|           NULL|       NULL|         NULL|        NULL|   NULL|                       NULL|                             NULL|                                NULL|                                                 50.0|                            NULL|      NULL|           NULL|                 NULL|                                   NULL|                   NULL|                   NULL|               NULL|               NULL|        NULL|              NULL|            NULL|         NULL|          NULL|         NULL|        NULL|        NULL|\n",
      "|     5005.0|http://world-en.o...|       kiliweb|1521663684|2018-03-21 20:21:24|     1545934272|   2018-12-27 18:11:12|        teolemon|    1707490060|  2024-02-09 14:47:40|           Abondance|                    NULL|        NULL|    NULL|                NULL|              NULL|        NULL|          NULL|                NULL|                NULL|Produits laitiers...|en:dairies,en:fer...|Dairies,Fermented...|   NULL|        NULL|      NULL|                NULL|                     NULL|         NULL|            NULL|            NULL|            NULL|            NULL|                    NULL|  NULL|                NULL|           NULL|         NULL|   France|     en:france|      France|                NULL|                NULL|                     NULL|             NULL|        NULL|  NULL|       NULL|     NULL|        NULL|            NULL|             NULL|       NULL|     NULL|                NULL|                NULL|              14|               d|      NULL|Milk and dairy pr...|              Cheese|           en:cheese|en:milk-and-dairy...|Milk and dairy pr...|en:to-be-complete...|en:to-be-complete...|To be completed,N...|       NULL|          52.0|             c|en:fat-in-high-qu...|            NULL| NULL|                    NULL|             1|bottom-25-percent...|       0.375|  1521663690|2018-03-21 20:21:30|        en:abondance|           Abondance|https://images.op...|https://images.op...| https://images.op...|       https://images.op...|                NULL|                     NULL|          NULL|           397.0|     1661.0|                NULL|    33.0|              21.6|             NULL|             NULL|              NULL|            NULL|            NULL|              NULL|              NULL|             NULL|               NULL|             NULL|                NULL|             NULL|              NULL|              NULL|                NULL|                    NULL|            NULL|                    NULL|            NULL|            NULL|                     NULL|                      NULL|                     NULL|              NULL|                 NULL|                     NULL|                            NULL|           NULL|             NULL|             NULL|          NULL|            NULL|              NULL|          NULL|            NULL|               0.1|        0.1|             NULL|        NULL|        NULL|         NULL|        NULL|        NULL|              NULL|       NULL|        NULL|           NULL|      NULL|              NULL|                NULL|         25.0|       NULL|               NULL|            NULL|      1.3|           NULL|       0.52|        NULL|          NULL|              NULL|          NULL|          NULL|          NULL|          NULL|           NULL|           NULL|           NULL|           NULL|           NULL|        NULL|            NULL|       NULL|                 NULL|       NULL|            NULL|          NULL|         NULL|        NULL|           NULL|     NULL|          NULL|     NULL|       NULL|          NULL|         NULL|         NULL|         NULL|           NULL|       NULL|         NULL|        NULL|   NULL|                       NULL|                             NULL|                                NULL|                                                 NULL|                            NULL|      NULL|           NULL|                 NULL|                                   NULL|                     14|                   NULL|               NULL|               NULL|        NULL|              NULL|            NULL|         NULL|          NULL|         NULL|        NULL|        NULL|\n",
      "|     5166.0|http://world-en.o...|       kiliweb|1539279826|2018-10-11 17:43:46|     1549996692|   2019-02-12 18:38:12|        teolemon|    1707603202|  2024-02-10 22:13:22|cuisse de poulet ...|                    NULL|        NULL|    NULL|                NULL|              NULL|        NULL|          NULL|                NULL|                NULL|Viandes et dérivé...|en:meats-and-thei...|Meats and their p...|   NULL|        NULL|      NULL|                NULL|                     NULL|         NULL|            NULL|            NULL|            NULL|            NULL|                    NULL|  NULL|                NULL|           NULL|         NULL|   France|     en:france|      France|                NULL|                NULL|                     NULL|             NULL|        NULL|  NULL|       NULL|     NULL|        NULL|            NULL|             NULL|       NULL|     NULL|                NULL|                NULL|               4|               c|      NULL|      Fish Meat Eggs|                Meat|          en:poultry|en:fish-meat-eggs...|Fish‚ Meat‚ Eggs,...|en:to-be-complete...|en:to-be-complete...|To be completed,N...|       NULL|          21.0|             d|en:fat-in-moderat...|            NULL| NULL|                    NULL|          NULL|                NULL|       0.375|  1539279828|2018-10-11 17:43:48|   en:chicken-thighs|      Chicken thighs|https://images.op...|https://images.op...| https://images.op...|       https://images.op...|                NULL|                     NULL|          NULL|           197.0|      824.0|                NULL|    13.0|               4.0|             NULL|             NULL|              NULL|            NULL|            NULL|              NULL|              NULL|             NULL|               NULL|             NULL|                NULL|             NULL|              NULL|              NULL|                NULL|                    NULL|            NULL|                    NULL|            NULL|            NULL|                     NULL|                      NULL|                     NULL|              NULL|                 NULL|                     NULL|                            NULL|           NULL|             NULL|             NULL|          NULL|            NULL|              NULL|          NULL|            NULL|               3.0|        0.9|             NULL|        NULL|        NULL|         NULL|        NULL|        NULL|              NULL|       NULL|        NULL|           NULL|      NULL|              NULL|                NULL|         17.0|       NULL|               NULL|            NULL|      1.1|           NULL|       0.44|        NULL|          NULL|              NULL|          NULL|          NULL|          NULL|          NULL|           NULL|           NULL|           NULL|           NULL|           NULL|        NULL|            NULL|       NULL|                 NULL|       NULL|            NULL|          NULL|         NULL|        NULL|           NULL|     NULL|          NULL|     NULL|       NULL|          NULL|         NULL|         NULL|         NULL|           NULL|       NULL|         NULL|        NULL|   NULL|                       NULL|                             NULL|                                NULL|                                                 NULL|                            NULL|      NULL|           NULL|                 NULL|                                   NULL|                      4|                   NULL|               NULL|               NULL|        NULL|              NULL|            NULL|         NULL|          NULL|         NULL|        NULL|        NULL|\n",
      "|     5241.0|http://world-en.o...|       kiliweb|1540886513|2018-10-30 08:01:53|     1544548114|   2018-12-11 17:08:34|      roboto-app|    1724336159|  2024-08-22 14:15:59|               Bagel|                    NULL|        NULL|    NULL|                NULL|              NULL|        NULL|          NULL|                NULL|                NULL|Aliments et boiss...|en:plant-based-fo...|Plant-based foods...|   NULL|        NULL|      NULL|                NULL|                     NULL|         NULL|            NULL|            NULL|            NULL|            NULL|                    NULL|  NULL|                NULL|           NULL|         NULL|   France|     en:france|      France|                NULL|                NULL|                     NULL|             NULL|        NULL|  NULL|       NULL|     NULL|        NULL|            NULL|             NULL|       NULL|     NULL|                NULL|                NULL|               0|               b|      NULL|Cereals and potatoes|               Bread|            en:bread|en:cereals-and-po...|Cereals and potat...|en:to-be-complete...|en:to-be-complete...|To be completed,N...|       NULL|          75.0|             b|en:fat-in-moderat...|            NULL| NULL|                    NULL|          NULL|                NULL|       0.375|  1540886515|2018-10-30 08:01:55|     en:bagel-breads|        Bagel breads|https://images.op...|https://images.op...| https://images.op...|       https://images.op...|                NULL|                     NULL|          NULL|           197.0|      824.0|                NULL|     5.0|               1.1|             NULL|             NULL|              NULL|            NULL|            NULL|              NULL|              NULL|             NULL|               NULL|             NULL|                NULL|             NULL|              NULL|              NULL|                NULL|                    NULL|            NULL|                    NULL|            NULL|            NULL|                     NULL|                      NULL|                     NULL|              NULL|                 NULL|                     NULL|                            NULL|           NULL|             NULL|             NULL|          NULL|            NULL|              NULL|          NULL|            NULL|              28.7|        3.0|             NULL|        NULL|        NULL|         NULL|        NULL|        NULL|              NULL|       NULL|        NULL|           NULL|      NULL|              NULL|                NULL|          8.4|       NULL|               NULL|            NULL|    0.467|           NULL|     0.1868|        NULL|          NULL|              NULL|          NULL|          NULL|          NULL|          NULL|           NULL|           NULL|           NULL|           NULL|           NULL|        NULL|            NULL|       NULL|                 NULL|       NULL|            NULL|          NULL|         NULL|        NULL|           NULL|     NULL|          NULL|     NULL|       NULL|          NULL|         NULL|         NULL|         NULL|           NULL|       NULL|         NULL|        NULL|   NULL|                       NULL|                             NULL|                                NULL|                                                 NULL|                            NULL|      NULL|           NULL|                 NULL|                                   NULL|                      0|                   NULL|               NULL|               NULL|        NULL|              NULL|            NULL|         NULL|          NULL|         NULL|        NULL|        NULL|\n",
      "|     5470.0|http://world-en.o...|       kiliweb|1511778860|2017-11-27 10:34:20|     1550180518|   2019-02-14 21:41:58|      roboto-app|    1724336146|  2024-08-22 14:15:46|    BAguette bressan|                    NULL|        NULL|       1|                NULL|              NULL|        NULL|          NULL|         Crousresto'|          crousresto|Aliments et boiss...|en:plant-based-fo...|Plant-based foods...|   NULL|        NULL|      NULL|                NULL|                     NULL|         NULL|            NULL|            NULL|            NULL|            NULL|                    NULL|  NULL|                NULL|           NULL|         NULL|   France|     en:france|      France|Bâguette Bressan ...|fr:baguette-bress...|     en:palm-oil-conte...|en:eggs,en:gluten|        NULL|  NULL|       NULL|     NULL|        NULL|            NULL|             NULL|          3|     NULL|en:e14xx,en:e262,...|E14XX - Modified ...|              -4|               a|         4|Cereals and potatoes|               Bread|            en:bread|en:cereals-and-po...|Cereals and potat...|en:to-be-complete...|en:to-be-complete...|To be completed,N...|       NULL|          77.0|             b|en:fat-in-low-qua...|             0.0| NULL|                    NULL|             2|top-country-fr-sc...|       0.675|  1511778863|2017-11-27 10:34:23|        en:baguettes|           Baguettes|https://images.op...|https://images.op...| https://images.op...|       https://images.op...|                NULL|                     NULL|          NULL|           160.0|      669.0|                NULL|     2.2|               0.5|             NULL|             NULL|              NULL|            NULL|            NULL|              NULL|              NULL|             NULL|               NULL|             NULL|                NULL|             NULL|              NULL|              NULL|                NULL|                    NULL|            NULL|                    NULL|            NULL|            NULL|                     NULL|                      NULL|                     NULL|              NULL|                 NULL|                     NULL|                            NULL|           NULL|             NULL|             NULL|          NULL|            NULL|              NULL|          NULL|            NULL|              25.2|        0.6|             NULL|        NULL|        NULL|         NULL|        NULL|        NULL|              NULL|       NULL|        NULL|           NULL|       1.6|              NULL|                NULL|          9.5|       NULL|               NULL|            NULL|    0.358|           NULL|     0.1432|        NULL|          NULL|              NULL|          NULL|          NULL|          NULL|          NULL|           NULL|           NULL|           NULL|           NULL|           NULL|        NULL|            NULL|       NULL|                 NULL|       NULL|            NULL|          NULL|         NULL|        NULL|           NULL|     NULL|          NULL|     NULL|       NULL|          NULL|         NULL|         NULL|         NULL|           NULL|       NULL|         NULL|        NULL|   NULL|                       NULL|                             NULL|                                NULL|                                                  0.0|                            NULL|      NULL|           NULL|                 NULL|                                  401.8|                     -4|                   NULL|               NULL|               NULL|        NULL|              NULL|            NULL|         NULL|          NULL|         NULL|        NULL|        NULL|\n",
      "|     5661.0|http://world-en.o...|       kiliweb|1522424158|2018-03-30 15:35:58|     1522437072|   2018-03-30 19:11:12|     moon-rabbit|    1707490062|  2024-02-09 14:47:42|Pavé de saumon fu...|                    NULL|        NULL|    NULL|                NULL|              NULL|        NULL|          NULL|                NULL|                NULL|Produits de la me...|en:seafood,en:fis...|Seafood,Fishes an...|   NULL|        NULL|      NULL|                NULL|                     NULL|         NULL|            NULL|            NULL|            NULL|            NULL|                    NULL|  NULL|                NULL|           NULL|         NULL|   France|     en:france|      France|                NULL|                NULL|                     NULL|             NULL|        NULL|  NULL|       NULL|     NULL|        NULL|            NULL|             NULL|       NULL|     NULL|                NULL|                NULL|              15|               d|      NULL|      Fish Meat Eggs|    Fish and seafood|       en:fatty-fish|en:fish-meat-eggs...|Fish‚ Meat‚ Eggs,...|en:to-be-complete...|en:to-be-complete...|To be completed,N...|       NULL|           9.0|             e|en:fat-in-moderat...|            NULL| NULL|                    NULL|          NULL|                NULL|      0.3875|  1522424162|2018-03-30 15:36:02|fr:paves-de-saumo...|fr:paves-de-saumo...|https://images.op...|https://images.op...| https://images.op...|       https://images.op...|https://images.op...|     https://images.op...|          NULL|           253.0|     1059.0|                NULL|    17.0|               2.6|             NULL|             NULL|              NULL|            NULL|            NULL|              NULL|              NULL|             NULL|               NULL|             NULL|                NULL|             NULL|              NULL|              NULL|                NULL|                    NULL|            NULL|                    NULL|            NULL|            NULL|                     NULL|                      NULL|                     NULL|              NULL|                 NULL|                     NULL|                            NULL|           NULL|             NULL|             NULL|          NULL|            NULL|              NULL|          NULL|            NULL|               0.5|        0.5|             NULL|        NULL|        NULL|         NULL|        NULL|        NULL|              NULL|       NULL|        NULL|           NULL|      NULL|              NULL|                NULL|         23.0|       NULL|               NULL|            NULL|      2.5|           NULL|        1.0|        NULL|          NULL|              NULL|          NULL|          NULL|          NULL|          NULL|           NULL|           NULL|           NULL|           NULL|           NULL|        NULL|            NULL|       NULL|                 NULL|       NULL|            NULL|          NULL|         NULL|        NULL|           NULL|     NULL|          NULL|     NULL|       NULL|          NULL|         NULL|         NULL|         NULL|           NULL|       NULL|         NULL|        NULL|   NULL|                       NULL|                             NULL|                                NULL|                                                 NULL|                            NULL|      NULL|           NULL|                 NULL|                                   NULL|                     15|                   NULL|               NULL|               NULL|        NULL|              NULL|            NULL|         NULL|          NULL|         NULL|        NULL|        NULL|\n",
      "|      622.0|http://world-en.o...|       kiliweb|1679214502|2023-03-19 08:28:22|     1679215356|   2023-03-19 08:42:36|         segundo|    1707738749|  2024-02-12 11:52:29|      Haricots Mungo|                    NULL|        NULL|    NULL|                NULL|              NULL|        NULL|          NULL|                NULL|                NULL|Aliments et boiss...|en:plant-based-fo...|Plant-based foods...|   NULL|        NULL|      NULL|                NULL|                     NULL|         NULL|            NULL|            NULL|            NULL|            NULL|                    NULL|  NULL|                NULL|           NULL|         NULL|    en:fr|     en:france|      France|                NULL|                NULL|                     NULL|             NULL|        NULL|  NULL|       NULL|     NULL|        NULL|            NULL|             NULL|       NULL|     NULL|                NULL|                NULL|            NULL|         unknown|      NULL|Cereals and potatoes|             Legumes|          en:legumes|en:cereals-and-po...|Cereals and potat...|en:to-be-complete...|en:to-be-complete...|To be completed,N...|       NULL|          NULL|       unknown|                NULL|            NULL| NULL|                    NULL|          NULL|                NULL|      0.2625|  1679214504|2023-03-19 08:28:24|       en:mung-beans|          Mung beans|https://images.op...|https://images.op...|                 NULL|                       NULL|                NULL|                     NULL|          NULL|            NULL|       NULL|                NULL|    NULL|              NULL|             NULL|             NULL|              NULL|            NULL|            NULL|              NULL|              NULL|             NULL|               NULL|             NULL|                NULL|             NULL|              NULL|              NULL|                NULL|                    NULL|            NULL|                    NULL|            NULL|            NULL|                     NULL|                      NULL|                     NULL|              NULL|                 NULL|                     NULL|                            NULL|           NULL|             NULL|             NULL|          NULL|            NULL|              NULL|          NULL|            NULL|              NULL|       NULL|             NULL|        NULL|        NULL|         NULL|        NULL|        NULL|              NULL|       NULL|        NULL|           NULL|      NULL|              NULL|                NULL|         NULL|       NULL|               NULL|            NULL|     NULL|           NULL|       NULL|        NULL|          NULL|              NULL|          NULL|          NULL|          NULL|          NULL|           NULL|           NULL|           NULL|           NULL|           NULL|        NULL|            NULL|       NULL|                 NULL|       NULL|            NULL|          NULL|         NULL|        NULL|           NULL|     NULL|          NULL|     NULL|       NULL|          NULL|         NULL|         NULL|         NULL|           NULL|       NULL|         NULL|        NULL|   NULL|                       NULL|                             NULL|                                NULL|                                                 NULL|                            NULL|      NULL|           NULL|                 NULL|                                   NULL|                   NULL|                   NULL|               NULL|               NULL|        NULL|              NULL|            NULL|         NULL|          NULL|         NULL|        NULL|        NULL|\n",
      "+-----------+--------------------+--------------+----------+-------------------+---------------+----------------------+----------------+--------------+---------------------+--------------------+------------------------+------------+--------+--------------------+------------------+------------+--------------+--------------------+--------------------+--------------------+--------------------+--------------------+-------+------------+----------+--------------------+-------------------------+-------------+----------------+----------------+----------------+----------------+------------------------+------+--------------------+---------------+-------------+---------+--------------+------------+--------------------+--------------------+-------------------------+-----------------+------------+------+-----------+---------+------------+----------------+-----------------+-----------+---------+--------------------+--------------------+----------------+----------------+----------+--------------------+--------------------+--------------------+--------------------+--------------------+--------------------+--------------------+--------------------+-----------+--------------+--------------+--------------------+----------------+-----+------------------------+--------------+--------------------+------------+------------+-------------------+--------------------+--------------------+--------------------+--------------------+---------------------+---------------------------+--------------------+-------------------------+--------------+----------------+-----------+--------------------+--------+------------------+-----------------+-----------------+------------------+----------------+----------------+------------------+------------------+-----------------+-------------------+-----------------+--------------------+-----------------+------------------+------------------+--------------------+------------------------+----------------+------------------------+----------------+----------------+-------------------------+--------------------------+-------------------------+------------------+---------------------+-------------------------+--------------------------------+---------------+-----------------+-----------------+--------------+----------------+------------------+--------------+----------------+------------------+-----------+-----------------+------------+------------+-------------+------------+------------+------------------+-----------+------------+---------------+----------+------------------+--------------------+-------------+-----------+-------------------+----------------+---------+---------------+-----------+------------+--------------+------------------+--------------+--------------+--------------+--------------+---------------+---------------+---------------+---------------+---------------+------------+----------------+-----------+---------------------+-----------+----------------+--------------+-------------+------------+---------------+---------+--------------+---------+-----------+--------------+-------------+-------------+-------------+---------------+-----------+-------------+------------+-------+---------------------------+---------------------------------+------------------------------------+-----------------------------------------------------+--------------------------------+----------+---------------+---------------------+---------------------------------------+-----------------------+-----------------------+-------------------+-------------------+------------+------------------+----------------+-------------+--------------+-------------+------------+------------+\n",
      "only showing top 20 rows\n",
      "\n"
     ]
    }
   ],
   "source": [
    "dropped_rows.show()"
   ]
  },
  {
   "cell_type": "markdown",
   "id": "4a1fbeb1-073d-4f49-8d3b-5dcb68323199",
   "metadata": {
    "jp-MarkdownHeadingCollapsed": true
   },
   "source": [
    "# Extract unique strings in a column (ingredients analysis tags in this example)"
   ]
  },
  {
   "cell_type": "code",
   "execution_count": 4,
   "id": "fac11a35-ffa3-4555-9475-21774e8e3355",
   "metadata": {},
   "outputs": [],
   "source": [
    "def flatten_list(li):\n",
    "    flat_list = []\n",
    "    for row in li:\n",
    "        flat_list += row\n",
    "    return flat_list\n",
    "\n",
    "def make_list_unique(li):\n",
    "    return list(dict.fromkeys(li))\n",
    "\n",
    "def split_string_list_elements(li, sep):\n",
    "    return [x.split(sep) for x in li]\n",
    "\n",
    "def column_to_list(col):\n",
    "    return col.rdd.flatMap(lambda x: x).collect()"
   ]
  },
  {
   "cell_type": "code",
   "execution_count": 5,
   "id": "f785cd80-da26-44c9-ad04-703fc19f1b3b",
   "metadata": {},
   "outputs": [],
   "source": [
    "categories_list = make_list_unique(flatten_list(split_string_list_elements(column_to_list(df.select('ingredients_analysis_tags').dropna()), \",\")))"
   ]
  },
  {
   "cell_type": "code",
   "execution_count": 6,
   "id": "16092ba1-d5b4-44a1-884f-79649c1d1e18",
   "metadata": {},
   "outputs": [
    {
     "data": {
      "text/plain": [
       "['en:palm-oil-free',\n",
       " 'en:non-vegan',\n",
       " 'en:vegetarian-status-unknown',\n",
       " 'en:palm-oil-content-unknown',\n",
       " 'en:vegan-status-unknown',\n",
       " 'en:may-contain-palm-oil',\n",
       " 'en:vegetarian',\n",
       " 'en:vegan',\n",
       " 'en:non-vegetarian',\n",
       " 'en:palm-oil',\n",
       " 'en:maybe-vegan',\n",
       " 'en:maybe-vegetarian']"
      ]
     },
     "execution_count": 6,
     "metadata": {},
     "output_type": "execute_result"
    }
   ],
   "source": [
    "categories_list"
   ]
  },
  {
   "cell_type": "markdown",
   "id": "cbea218f-d625-42e0-9bc9-c9905418c902",
   "metadata": {
    "jp-MarkdownHeadingCollapsed": true
   },
   "source": [
    "# Drop unecessary columns"
   ]
  },
  {
   "cell_type": "code",
   "execution_count": 26,
   "id": "cdbddf06-6cc8-427d-b8ec-01b6724e754b",
   "metadata": {},
   "outputs": [],
   "source": [
    "kept_columns = [\"code\", \"product_quantity\", \"energy-kcal_100g\", \"fat_100g\", \"saturated-fat_100g\", \"unsaturated-fat_100g\", \"monounsaturated-fat_100g\", \"polyunsaturated-fat_100g\", \"trans-fat_100g\", \n",
    "                \"carbohydrates_100g\", \"sugars_100g\", \"added-sugars_100g\", \"starch_100g\", \"fiber_100g\", \"proteins_100g\", \"allergens\", \"traces\", \"vitamin-a_100g\", \"vitamin-c_100g\", \"vitamin-d_100g\",\n",
    "                \"vitamin-e_100g\", \"vitamin-k_100g\", \"vitamin-b1_100g\", \"vitamin-b2_100g\", \"vitamin-b6_100g\", \"vitamin-b9_100g\", \"vitamin-b12_100g\", \"calcium_100g\",\n",
    "                \"iron_100g\", \"magnesium_100g\", \"potassium_100g\", \"zinc_100g\", \"food_groups_tags\", \"serving_size\", \"serving_quantity\", \"cholesterol_100g\", \"salt_100g\", \"glycemic-index_100g\"]"
   ]
  },
  {
   "cell_type": "code",
   "execution_count": 27,
   "id": "eee5f531-00a6-4b91-b5a2-b96c156ac3f2",
   "metadata": {},
   "outputs": [
    {
     "data": {
      "text/plain": [
       "['code',\n",
       " 'product_quantity',\n",
       " 'energy-kcal_100g',\n",
       " 'fat_100g',\n",
       " 'saturated-fat_100g',\n",
       " 'unsaturated-fat_100g',\n",
       " 'monounsaturated-fat_100g',\n",
       " 'polyunsaturated-fat_100g',\n",
       " 'trans-fat_100g',\n",
       " 'carbohydrates_100g',\n",
       " 'sugars_100g',\n",
       " 'added-sugars_100g',\n",
       " 'starch_100g',\n",
       " 'fiber_100g',\n",
       " 'proteins_100g',\n",
       " 'allergens',\n",
       " 'traces',\n",
       " 'vitamin-a_100g',\n",
       " 'vitamin-c_100g',\n",
       " 'vitamin-d_100g',\n",
       " 'vitamin-e_100g',\n",
       " 'vitamin-k_100g',\n",
       " 'vitamin-b1_100g',\n",
       " 'vitamin-b2_100g',\n",
       " 'vitamin-b6_100g',\n",
       " 'vitamin-b9_100g',\n",
       " 'vitamin-b12_100g',\n",
       " 'calcium_100g',\n",
       " 'iron_100g',\n",
       " 'magnesium_100g',\n",
       " 'potassium_100g',\n",
       " 'zinc_100g',\n",
       " 'food_groups_tags',\n",
       " 'serving_size',\n",
       " 'serving_quantity',\n",
       " 'cholesterol_100g',\n",
       " 'salt_100g',\n",
       " 'glycemic-index_100g']"
      ]
     },
     "execution_count": 27,
     "metadata": {},
     "output_type": "execute_result"
    }
   ],
   "source": [
    "df_kept_columns = df.select(kept_columns).cache()\n",
    "df.unpersist()\n",
    "df_kept_columns.columns"
   ]
  },
  {
   "cell_type": "markdown",
   "id": "b81fa1d0-2f4a-4fc6-94a2-6b10cbf605ad",
   "metadata": {},
   "source": [
    "# Write DF to a database"
   ]
  },
  {
   "cell_type": "markdown",
   "id": "71f1c37c-164a-4d0e-88e2-56080b24284e",
   "metadata": {
    "jp-MarkdownHeadingCollapsed": true
   },
   "source": [
    "## Get user's database credentials (not necessary)"
   ]
  },
  {
   "cell_type": "code",
   "execution_count": null,
   "id": "80dbeb9e-fdd3-4d15-9844-a2a37c0e1047",
   "metadata": {},
   "outputs": [],
   "source": [
    "# properties = {}\n",
    "# url = {}\n",
    "# for text in [\"database URL\", \"table name\"]\n",
    "#     url[text] = input(\"Enter \" + text + \": \")\n",
    "\n",
    "\n",
    "# for text in [\"user\", \"password\", \"driver\"]:\n",
    "#     properties[text] = input(\"Enter \" + text + \": \")"
   ]
  },
  {
   "cell_type": "markdown",
   "id": "4e6ee6e3-219e-4c14-adfc-5c96b038b20d",
   "metadata": {},
   "source": [
    "## Write to the database using JDBC Driver"
   ]
  },
  {
   "cell_type": "code",
   "execution_count": 5,
   "id": "c2722c1f-7bb7-4414-bbc6-cb26c63d2896",
   "metadata": {},
   "outputs": [
    {
     "ename": "NameError",
     "evalue": "name 'df_filtered' is not defined",
     "output_type": "error",
     "traceback": [
      "\u001b[0;31m---------------------------------------------------------------------------\u001b[0m",
      "\u001b[0;31mNameError\u001b[0m                                 Traceback (most recent call last)",
      "Cell \u001b[0;32mIn[5], line 1\u001b[0m\n\u001b[0;32m----> 1\u001b[0m \u001b[43mdf_filtered\u001b[49m\u001b[38;5;241m.\u001b[39mwrite\u001b[38;5;241m.\u001b[39mjdbc(url\u001b[38;5;241m=\u001b[39murl[\u001b[38;5;124m\"\u001b[39m\u001b[38;5;124mdatabase URL\u001b[39m\u001b[38;5;124m\"\u001b[39m], table\u001b[38;5;241m=\u001b[39murl[\u001b[38;5;124m\"\u001b[39m\u001b[38;5;124mtable name\u001b[39m\u001b[38;5;124m\"\u001b[39m], mode\u001b[38;5;241m=\u001b[39m\u001b[38;5;124m\"\u001b[39m\u001b[38;5;124mappend\u001b[39m\u001b[38;5;124m\"\u001b[39m, properties\u001b[38;5;241m=\u001b[39mproperties)\n",
      "\u001b[0;31mNameError\u001b[0m: name 'df_filtered' is not defined"
     ]
    }
   ],
   "source": [
    "properties = {\n",
    "    \"user\": \"user\",\n",
    "    \"password\": \"userpassword\",\n",
    "    \"driver\": \"com.mysql.cj.jdbc.Driver\"\n",
    "}\n",
    "\n",
    "df_columns_kept.write.jdbc(url=\"jdbc:mysql://mysql:3306/pyspark_db\", table=\"products\", mode=\"append\", properties=properties)"
   ]
  },
  {
   "cell_type": "markdown",
   "id": "6ed01e5f-e4e7-46fc-af7a-1b6c314e25c1",
   "metadata": {
    "jp-MarkdownHeadingCollapsed": true
   },
   "source": [
    "# GPT help"
   ]
  },
  {
   "cell_type": "raw",
   "id": "d6e10934-67c4-4c31-8fd5-2a340d7b00db",
   "metadata": {},
   "source": [
    "To create a vegetarian menu based on the data you have, you can leverage certain columns in your dataset that contain relevant information about the product's ingredients and nutritional analysis. Specifically, you can use the following steps:\n",
    "\n",
    "Identify Relevant Columns: The columns that might help determine whether a product is vegetarian-friendly could include:\n",
    "\n",
    "ingredients_text: Describes the ingredients in the product.\n",
    "ingredients_analysis_tags: May contain tags related to the type of ingredients (e.g., \"vegetarian\", \"vegan\", \"meat\").\n",
    "food_groups, food_groups_tags, categories, categories_tags: These columns may classify the product into food categories or groups that indicate if the product is vegetarian-friendly.\n",
    "additives_tags: Might include information about additives that are animal-derived.\n",
    "ecoscore_grade, nutriscore_grade, nutriscore_score: Could provide insights into the sustainability or nutritional value of the product.\n",
    "Filter for Vegetarian Tags or Keywords:\n",
    "\n",
    "You can filter products where the ingredients_analysis_tags or categories_tags include tags such as \"vegetarian\" or exclude those with tags like \"meat\", \"animal\", or specific animal products such as \"beef\", \"chicken\", \"pork\", \"fish\", \"gelatin\", etc.\n",
    "Create a Filtered Vegetarian Menu: You can use PySpark to filter and create a new DataFrame for vegetarian products. Below is an example code that demonstrates how you could do this:"
   ]
  },
  {
   "cell_type": "raw",
   "id": "175383a5-94ad-4878-809a-2dc1c7d03080",
   "metadata": {},
   "source": [
    "1. Calories and Macronutrients\n",
    "    These are essential for understanding the caloric content and macronutrient distribution, which is crucial for diets like keto, low-carb, high-protein, and balanced diets:\n",
    "    \n",
    "    energy-kcal_100g\n",
    "    fat_100g\n",
    "    saturated-fat_100g\n",
    "    unsaturated-fat_100g\n",
    "    monounsaturated-fat_100g\n",
    "    polyunsaturated-fat_100g\n",
    "    trans-fat_100g\n",
    "    carbohydrates_100g\n",
    "    sugars_100g\n",
    "    added-sugars_100g\n",
    "    starch_100g\n",
    "    fiber_100g\n",
    "    proteins_100g\n",
    "\n",
    "2. Allergens and Traces\n",
    "    For allergen-free diets (e.g., gluten-free, dairy-free, nut-free, etc.):\n",
    "    \n",
    "    allergens\n",
    "    allergens_en\n",
    "    traces\n",
    "    traces_en\n",
    "\n",
    "3. Additives and Preservatives\n",
    "    Useful for clean eating, whole-food, or organic diets that avoid artificial ingredients:\n",
    "    \n",
    "    additives_n\n",
    "    additives\n",
    "    additives_tags\n",
    "    additives_en\n",
    "\n",
    "4. Vitamins and Minerals\n",
    "    Important for nutrient-rich diets (e.g., vegan, vegetarian, or those focusing on micronutrient density):\n",
    "    \n",
    "    vitamin-a_100g\n",
    "    vitamin-c_100g\n",
    "    vitamin-d_100g\n",
    "    vitamin-e_100g\n",
    "    vitamin-k_100g\n",
    "    vitamin-b1_100g\n",
    "    vitamin-b2_100g\n",
    "    vitamin-b6_100g\n",
    "    vitamin-b9_100g\n",
    "    vitamin-b12_100g\n",
    "    calcium_100g\n",
    "    iron_100g\n",
    "    magnesium_100g\n",
    "    potassium_100g\n",
    "    zinc_100g\n",
    "\n",
    "5. Food Origin and Labels\n",
    "    Helpful for organic, fair trade, local sourcing, or sustainability-focused diets:\n",
    "    \n",
    "    origins\n",
    "    origins_tags\n",
    "    labels\n",
    "    labels_tags\n",
    "    labels_en\n",
    "    ecoscore_score\n",
    "    ecoscore_grade\n",
    "    carbon-footprint_100g\n",
    "    carbon-footprint-from-meat-or-fish_100g\n",
    "\n",
    "6. Product Composition\n",
    "    For vegetarian, vegan, or plant-based diets:\n",
    "    \n",
    "    ingredients_text\n",
    "    ingredients_tags\n",
    "    fruits-vegetables-nuts_100g\n",
    "    fruits-vegetables-nuts-dried_100g\n",
    "    fruits-vegetables-nuts-estimate_100g\n",
    "    fruits-vegetables-nuts-estimate-from-ingredients_100g\n",
    "\n",
    "7. Serving Size and Quantities\n",
    "    For managing portion control and specific caloric intake:\n",
    "    \n",
    "    serving_size\n",
    "    serving_quantity\n",
    "\n",
    "8. Nutritional Quality and Scores\n",
    "    Useful for general health-conscious eating:\n",
    "    \n",
    "    nutriscore_score\n",
    "    nutriscore_grade\n",
    "    nutrition-score-fr_100g\n",
    "    nutrition-score-uk_100g\n",
    "\n",
    "9. Specific Components\n",
    "    Helpful for specialized diets focusing on specific nutrients (e.g., low-sodium, low-sugar, low-cholesterol diets):\n",
    "    \n",
    "    cholesterol_100g\n",
    "    sodium_100g\n",
    "    salt_100g\n",
    "    added-salt_100g\n",
    "    glycemic-index_100g"
   ]
  }
 ],
 "metadata": {
  "kernelspec": {
   "display_name": "Python 3 (ipykernel)",
   "language": "python",
   "name": "python3"
  },
  "language_info": {
   "codemirror_mode": {
    "name": "ipython",
    "version": 3
   },
   "file_extension": ".py",
   "mimetype": "text/x-python",
   "name": "python",
   "nbconvert_exporter": "python",
   "pygments_lexer": "ipython3",
   "version": "3.11.6"
  }
 },
 "nbformat": 4,
 "nbformat_minor": 5
}
