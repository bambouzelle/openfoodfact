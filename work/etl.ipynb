{
 "cells": [
  {
   "cell_type": "markdown",
   "id": "bb4d2352-4f19-463e-a636-b92501406fad",
   "metadata": {},
   "source": [
    "# BARBIN Kevin BERNARD Felix TEPEDELEN Léo"
   ]
  },
  {
   "cell_type": "markdown",
   "id": "2e3c9a99-8d49-4b9e-b34e-4b254127ad08",
   "metadata": {},
   "source": [
    "# Projet Atelier Intégration des Données Datawarehouse Openfoodfacts"
   ]
  },
  {
   "cell_type": "markdown",
   "id": "6ac20311-d226-41ef-a117-bb4e7c29091c",
   "metadata": {},
   "source": [
    "Ce notebook Python est le rapport détaillé et l'ETL de notre projet. La suite du rapport se situe après l'ETL, nous y détaillons le fonctionnement du reste du système."
   ]
  },
  {
   "cell_type": "markdown",
   "id": "b1a59e53-c647-4b41-aac5-9a9f88e3abb3",
   "metadata": {},
   "source": [
    "Il a été réalisé à l'aide de Docker afin d'en faciliter le déploiement pour tester et collaborer."
   ]
  },
  {
   "cell_type": "markdown",
   "id": "0191696b-d940-4936-98d1-c92bc9e47e35",
   "metadata": {},
   "source": [
    "Vous trouverez tout ce qu'il vous faut pour essayer le programme sur votre machine dans le fichier README de ce repository github :"
   ]
  },
  {
   "cell_type": "markdown",
   "id": "b264635e-1b8c-4c39-9162-b2007816c44f",
   "metadata": {},
   "source": [
    "https://github.com/bambouzelle/openfoodfact"
   ]
  },
  {
   "cell_type": "markdown",
   "id": "86c88f7a-d9fd-4c32-a10d-3982d83f5b91",
   "metadata": {},
   "source": [
    "# Extraire les données dans un DataFrame pySpark"
   ]
  },
  {
   "cell_type": "code",
   "execution_count": 1,
   "id": "984230eb-ee17-4ac4-b737-202c09251c3c",
   "metadata": {},
   "outputs": [],
   "source": [
    "from pyspark.sql import SparkSession\n",
    "\n",
    "# Créer une session Spark\n",
    "spark = SparkSession.builder.appName(\"example\").getOrCreate()\n",
    "\n",
    "# Lire le fichier CSV\n",
    "df = spark.read.option(\"sep\", \"\\t\").csv(\"data/en.openfoodfacts.org.products.csv.gz\", header=True, inferSchema=True).cache()"
   ]
  },
  {
   "cell_type": "code",
   "execution_count": 19,
   "id": "da1a71fc-be90-46a2-93b7-f1f0e9977fbd",
   "metadata": {},
   "outputs": [
    {
     "name": "stdout",
     "output_type": "stream",
     "text": [
      "Nombre de lignes dans le fichier de base : 3417378\n"
     ]
    }
   ],
   "source": [
    "print(\"Nombre de lignes dans le fichier de base : \" + str(df.count()))"
   ]
  },
  {
   "cell_type": "markdown",
   "id": "c9c02a34-5df3-41b9-bf0e-7dac5a401e0e",
   "metadata": {},
   "source": [
    "# Générer une table au format CSV avec une description statistique du DataFrame"
   ]
  },
  {
   "cell_type": "code",
   "execution_count": null,
   "id": "c509e0fd-0c95-448d-b884-9b9ab7bfb6eb",
   "metadata": {},
   "outputs": [],
   "source": [
    "df.describe().toPandas().to_csv(\"describe_summary.csv\", index=False)"
   ]
  },
  {
   "cell_type": "markdown",
   "id": "c0a5dbff-0230-4591-a711-21dc73918d26",
   "metadata": {
    "editable": true,
    "slideshow": {
     "slide_type": ""
    },
    "tags": []
   },
   "source": [
    "# Effectuer un échantillonage du DataFrame pour en observer les colonnes qui peuvent sembler pertinentes"
   ]
  },
  {
   "cell_type": "code",
   "execution_count": 5,
   "id": "55d5f76d-d583-4802-9fa0-edc521eeb18b",
   "metadata": {},
   "outputs": [],
   "source": [
    "FRACTION_SIZE = 0.00001"
   ]
  },
  {
   "cell_type": "code",
   "execution_count": 6,
   "id": "44d995a5-115b-42b1-a335-1ac1e7998960",
   "metadata": {},
   "outputs": [],
   "source": [
    "columnsToSample = ['quantity', 'serving_size', 'serving_quantity', 'product_quantity']"
   ]
  },
  {
   "cell_type": "code",
   "execution_count": 7,
   "id": "4f1ebc1d-f028-46f8-badf-46cc45681b5e",
   "metadata": {},
   "outputs": [],
   "source": [
    "samples_not_clean_df = df.select(columnsToSample).dropna(how='all').cache()"
   ]
  },
  {
   "cell_type": "code",
   "execution_count": 8,
   "id": "b4fe3f00-b57c-464f-a77c-b63e28e24461",
   "metadata": {},
   "outputs": [],
   "source": [
    "samples_df = samples_not_clean_df.sample(withReplacement=False, fraction=FRACTION_SIZE).cache()"
   ]
  },
  {
   "cell_type": "code",
   "execution_count": 9,
   "id": "c8ab1de3-9d35-4cf7-a291-fc21f5c03a5e",
   "metadata": {},
   "outputs": [
    {
     "data": {
      "text/plain": [
       "16"
      ]
     },
     "execution_count": 9,
     "metadata": {},
     "output_type": "execute_result"
    }
   ],
   "source": [
    "samples_df.count()"
   ]
  },
  {
   "cell_type": "code",
   "execution_count": 10,
   "id": "bbdbd707-1f7a-43a5-89bf-2d0e1c650129",
   "metadata": {},
   "outputs": [
    {
     "name": "stdout",
     "output_type": "stream",
     "text": [
      "+--------+-----------------+----------------+----------------+\n",
      "|quantity|     serving_size|serving_quantity|product_quantity|\n",
      "+--------+-----------------+----------------+----------------+\n",
      "|    NULL|           354.0g|           354.0|            NULL|\n",
      "|   14 oz|             NULL|            NULL|    396.89332375|\n",
      "|    NULL|   8 OZA (240 ml)|           240.0|            NULL|\n",
      "|   105 g|             40 g|            40.0|           105.0|\n",
      "|    NULL|            27.0g|            27.0|            NULL|\n",
      "|    NULL|1 PACKAGE (124 g)|           124.0|            NULL|\n",
      "|    NULL|   1 SLICE (28 g)|            28.0|            NULL|\n",
      "|    NULL| 0.5 cup (120 ml)|           120.0|            NULL|\n",
      "|    NULL|   1/4 cup (30 g)|            30.0|            NULL|\n",
      "|    227g|             NULL|            NULL|           227.0|\n",
      "|    NULL|            100 g|           100.0|            NULL|\n",
      "|   275 g|             NULL|            NULL|           275.0|\n",
      "|   160 g|             30 g|            30.0|           160.0|\n",
      "|   400 g|             NULL|            NULL|           400.0|\n",
      "|  500 ml|             NULL|            NULL|           500.0|\n",
      "|    NULL|            40.0g|            40.0|            NULL|\n",
      "+--------+-----------------+----------------+----------------+\n",
      "\n"
     ]
    }
   ],
   "source": [
    "samples_df.show()"
   ]
  },
  {
   "cell_type": "markdown",
   "id": "4a1fbeb1-073d-4f49-8d3b-5dcb68323199",
   "metadata": {},
   "source": [
    "# Extraire les valeurs uniques d'une colonne afin d'en confirmer la pertinence (colonne ingredients_analysis_tags en exemple)"
   ]
  },
  {
   "cell_type": "code",
   "execution_count": 11,
   "id": "fac11a35-ffa3-4555-9475-21774e8e3355",
   "metadata": {},
   "outputs": [],
   "source": [
    "def flatten_list(li):\n",
    "    flat_list = []\n",
    "    for row in li:\n",
    "        flat_list += row\n",
    "    return flat_list\n",
    "\n",
    "def make_list_unique(li):\n",
    "    return list(dict.fromkeys(li))\n",
    "\n",
    "def split_string_list_elements(li, sep):\n",
    "    return [x.split(sep) for x in li]\n",
    "\n",
    "def column_to_list(col):\n",
    "    return col.rdd.flatMap(lambda x: x).collect()"
   ]
  },
  {
   "cell_type": "code",
   "execution_count": 12,
   "id": "f785cd80-da26-44c9-ad04-703fc19f1b3b",
   "metadata": {},
   "outputs": [],
   "source": [
    "ingredients_analysis_list = make_list_unique(flatten_list(split_string_list_elements(column_to_list(df.select('ingredients_analysis_tags').dropna()), \",\")))"
   ]
  },
  {
   "cell_type": "code",
   "execution_count": 14,
   "id": "16092ba1-d5b4-44a1-884f-79649c1d1e18",
   "metadata": {},
   "outputs": [
    {
     "data": {
      "text/plain": [
       "['en:palm-oil-free',\n",
       " 'en:non-vegan',\n",
       " 'en:vegetarian-status-unknown',\n",
       " 'en:palm-oil-content-unknown',\n",
       " 'en:vegan-status-unknown',\n",
       " 'en:may-contain-palm-oil',\n",
       " 'en:vegetarian',\n",
       " 'en:vegan',\n",
       " 'en:non-vegetarian',\n",
       " 'en:palm-oil',\n",
       " 'en:maybe-vegan',\n",
       " 'en:maybe-vegetarian']"
      ]
     },
     "execution_count": 14,
     "metadata": {},
     "output_type": "execute_result"
    }
   ],
   "source": [
    "ingredients_analysis_list"
   ]
  },
  {
   "cell_type": "markdown",
   "id": "cbea218f-d625-42e0-9bc9-c9905418c902",
   "metadata": {},
   "source": [
    "# Sélection des colonnes nécessaires après étude de celles-ci"
   ]
  },
  {
   "cell_type": "code",
   "execution_count": 27,
   "id": "cdbddf06-6cc8-427d-b8ec-01b6724e754b",
   "metadata": {},
   "outputs": [],
   "source": [
    "kept_columns = [\"code\", \"product_name\", \"product_quantity\", \"energy-kcal_100g\", \"fat_100g\", \"saturated-fat_100g\", \"monounsaturated-fat_100g\", \"polyunsaturated-fat_100g\", \"trans-fat_100g\", \n",
    "                \"carbohydrates_100g\", \"sugars_100g\", \"starch_100g\", \"fiber_100g\", \"proteins_100g\", \"allergens\", \"traces\", \"vitamin-a_100g\", \"vitamin-c_100g\", \"vitamin-d_100g\",\n",
    "                \"vitamin-e_100g\", \"vitamin-k_100g\", \"vitamin-b1_100g\", \"vitamin-b2_100g\", \"vitamin-b6_100g\", \"vitamin-b9_100g\", \"vitamin-b12_100g\", \"calcium_100g\",\n",
    "                \"iron_100g\", \"magnesium_100g\", \"potassium_100g\", \"zinc_100g\", \"food_groups_tags\", \"serving_size\", \"serving_quantity\", \"cholesterol_100g\", \"salt_100g\", \"glycemic-index_100g\"]"
   ]
  },
  {
   "cell_type": "code",
   "execution_count": 28,
   "id": "eee5f531-00a6-4b91-b5a2-b96c156ac3f2",
   "metadata": {
    "scrolled": true
   },
   "outputs": [],
   "source": [
    "df_kept_columns = df.select(kept_columns)"
   ]
  },
  {
   "cell_type": "markdown",
   "id": "b36aac7f-d961-4ad3-8a2e-b686e123db86",
   "metadata": {},
   "source": [
    "# Qualité des données"
   ]
  },
  {
   "cell_type": "markdown",
   "id": "5865a15b-462b-47e0-a0aa-58fcc3bde723",
   "metadata": {},
   "source": [
    "## On supprime les lignes qui ont moins de 15 colonnes très pertinentes non nulles"
   ]
  },
  {
   "cell_type": "code",
   "execution_count": 29,
   "id": "17cff244-deab-4ecb-bb91-3f1c8aab0aa1",
   "metadata": {},
   "outputs": [],
   "source": [
    "columns_to_check = [\"code\", \"product_name\", \"product_quantity\", \"energy-kcal_100g\", \"fat_100g\", \"saturated-fat_100g\", \"monounsaturated-fat_100g\",\n",
    "                    \"polyunsaturated-fat_100g\", \"trans-fat_100g\", \"carbohydrates_100g\", \"sugars_100g\", \"starch_100g\", \n",
    "                    \"fiber_100g\", \"proteins_100g\", \"allergens\", \"traces\", \"food_groups_tags\", \"serving_size\", \"serving_quantity\"]"
   ]
  },
  {
   "cell_type": "code",
   "execution_count": 30,
   "id": "654d9c42-65bb-45b0-8424-a6a4e46412f9",
   "metadata": {},
   "outputs": [],
   "source": [
    "df_kept_columns = df_kept_columns.dropna(subset=columns_to_check, thresh=15)"
   ]
  },
  {
   "cell_type": "markdown",
   "id": "a80a219a-d79c-42ab-bbe8-690ac1e93ac4",
   "metadata": {},
   "source": [
    "## On supprime les lignes dupliquées et on garde le DF en cache pour éviter de le recalculer"
   ]
  },
  {
   "cell_type": "code",
   "execution_count": 31,
   "id": "dbddb80b-ca7e-4fde-a846-3a061669a46e",
   "metadata": {},
   "outputs": [],
   "source": [
    "df_kept_columns = df_kept_columns.dropDuplicates().cache()"
   ]
  },
  {
   "cell_type": "code",
   "execution_count": 32,
   "id": "232b7def-6aa5-4c8c-80d2-819edf14a7cb",
   "metadata": {},
   "outputs": [
    {
     "name": "stdout",
     "output_type": "stream",
     "text": [
      "Nombre de lignes restantes après le traitement : 65552\n"
     ]
    }
   ],
   "source": [
    "print(\"Nombre de lignes restantes après le traitement : \" + str(df_kept_columns.count()))"
   ]
  },
  {
   "cell_type": "markdown",
   "id": "7b975b69-adad-403a-9dab-a81f651c20e0",
   "metadata": {},
   "source": [
    "## Plus besoin du DataFrame de base donc on le retire de la mémoire cache"
   ]
  },
  {
   "cell_type": "code",
   "execution_count": 33,
   "id": "67819e1e-1b25-4e4f-bc09-06af99ed72a7",
   "metadata": {},
   "outputs": [
    {
     "name": "stdout",
     "output_type": "stream",
     "text": [
      "Mémoire libérée\n"
     ]
    }
   ],
   "source": [
    "df.unpersist()\n",
    "print(\"Mémoire libérée\")"
   ]
  },
  {
   "cell_type": "markdown",
   "id": "b81fa1d0-2f4a-4fc6-94a2-6b10cbf605ad",
   "metadata": {},
   "source": [
    "# Écriture des données nettoyées en base de données avec le driver JDBC"
   ]
  },
  {
   "cell_type": "code",
   "execution_count": 34,
   "id": "c2722c1f-7bb7-4414-bbc6-cb26c63d2896",
   "metadata": {},
   "outputs": [],
   "source": [
    "properties = {\n",
    "    \"user\": \"user\",\n",
    "    \"password\": \"userpassword\",\n",
    "    \"driver\": \"com.mysql.cj.jdbc.Driver\"\n",
    "}\n",
    "\n",
    "df_kept_columns.write.jdbc(url=\"jdbc:mysql://mysql:3306/openfoodfact\", table=\"products\", mode=\"append\", properties=properties)"
   ]
  },
  {
   "cell_type": "markdown",
   "id": "f1c2f0d1-a655-47e0-809a-61545669c19c",
   "metadata": {},
   "source": [
    "# Suite du rapport"
   ]
  },
  {
   "cell_type": "markdown",
   "id": "5eba06bf-6179-4522-bada-5b8039d1c631",
   "metadata": {},
   "source": [
    "## Schéma de la BDD du Datawarehouse"
   ]
  },
  {
   "cell_type": "markdown",
   "id": "7481174d-2a30-4531-9376-48163de8a4fa",
   "metadata": {},
   "source": [
    "![Base de données](img/SchémaBDD.png)"
   ]
  },
  {
   "cell_type": "markdown",
   "id": "f773a4a8-34cb-413d-963d-d926aa0ff6db",
   "metadata": {},
   "source": [
    "## Script qui s'exécute automatiquement avec le docker-compose qui génère le schéma et remplit les tables users et diets"
   ]
  },
  {
   "cell_type": "markdown",
   "id": "58839103-2dfd-4969-9cec-271983dd99cd",
   "metadata": {},
   "source": [
    "![SCRIPTSQL1](img/ScriptSQL1.png)\n",
    "![SCRIPTSQL2](img/ScriptSQL2.png)"
   ]
  },
  {
   "cell_type": "markdown",
   "id": "b707c1af-52af-4f52-8e0e-6a733cf530ac",
   "metadata": {},
   "source": [
    "## Config Docker"
   ]
  },
  {
   "attachments": {},
   "cell_type": "markdown",
   "id": "c6159d60-0c23-4f35-bea7-025715a3a012",
   "metadata": {},
   "source": [
    "![compose1](img/compose1.png)\n",
    "![compose2](img/compose2.png)"
   ]
  },
  {
   "cell_type": "code",
   "execution_count": null,
   "id": "378748dd-a01a-4410-b17b-02cb43afc6c5",
   "metadata": {},
   "outputs": [],
   "source": []
  }
 ],
 "metadata": {
  "kernelspec": {
   "display_name": "Python 3 (ipykernel)",
   "language": "python",
   "name": "python3"
  },
  "language_info": {
   "codemirror_mode": {
    "name": "ipython",
    "version": 3
   },
   "file_extension": ".py",
   "mimetype": "text/x-python",
   "name": "python",
   "nbconvert_exporter": "python",
   "pygments_lexer": "ipython3",
   "version": "3.11.6"
  }
 },
 "nbformat": 4,
 "nbformat_minor": 5
}
